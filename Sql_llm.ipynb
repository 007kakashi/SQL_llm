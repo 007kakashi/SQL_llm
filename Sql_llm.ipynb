{
 "cells": [
  {
   "cell_type": "code",
   "execution_count": 38,
   "id": "85bd4af3",
   "metadata": {},
   "outputs": [],
   "source": [
    "from langchain.llms import GooglePalm\n",
    "from dotenv import load_dotenv\n",
    "import os\n",
    "\n",
    "load_dotenv()\n",
    "\n",
    "api_key = os.getenv('GOOGLE_API_KEY')\n"
   ]
  },
  {
   "cell_type": "code",
   "execution_count": 39,
   "id": "22813fa3",
   "metadata": {},
   "outputs": [],
   "source": [
    "# !pip install -q google-generativeai"
   ]
  },
  {
   "cell_type": "code",
   "execution_count": 42,
   "id": "200e8014",
   "metadata": {},
   "outputs": [
    {
     "name": "stdout",
     "output_type": "stream",
     "text": [
      "Collecting langchain==0.0.350\n",
      "  Obtaining dependency information for langchain==0.0.350 from https://files.pythonhosted.org/packages/72/e1/5b6da1b7feba08791e6351c323b0a6f6f4c0d553bc2fd9a9d8c4872373df/langchain-0.0.350-py3-none-any.whl.metadata\n",
      "  Downloading langchain-0.0.350-py3-none-any.whl.metadata (13 kB)\n",
      "Requirement already satisfied: PyYAML>=5.3 in c:\\users\\acer\\anaconda3\\lib\\site-packages (from langchain==0.0.350) (6.0)\n",
      "Requirement already satisfied: SQLAlchemy<3,>=1.4 in c:\\users\\acer\\anaconda3\\lib\\site-packages (from langchain==0.0.350) (1.4.39)\n",
      "Requirement already satisfied: aiohttp<4.0.0,>=3.8.3 in c:\\users\\acer\\anaconda3\\lib\\site-packages (from langchain==0.0.350) (3.8.5)\n",
      "Requirement already satisfied: dataclasses-json<0.7,>=0.5.7 in c:\\users\\acer\\anaconda3\\lib\\site-packages (from langchain==0.0.350) (0.6.3)\n",
      "Requirement already satisfied: jsonpatch<2.0,>=1.33 in c:\\users\\acer\\anaconda3\\lib\\site-packages (from langchain==0.0.350) (1.33)\n",
      "Requirement already satisfied: langchain-community<0.1,>=0.0.2 in c:\\users\\acer\\anaconda3\\lib\\site-packages (from langchain==0.0.350) (0.0.7)\n",
      "Requirement already satisfied: langchain-core<0.2,>=0.1 in c:\\users\\acer\\anaconda3\\lib\\site-packages (from langchain==0.0.350) (0.1.4)\n",
      "Requirement already satisfied: langsmith<0.1.0,>=0.0.63 in c:\\users\\acer\\anaconda3\\lib\\site-packages (from langchain==0.0.350) (0.0.77)\n",
      "Requirement already satisfied: numpy<2,>=1 in c:\\users\\acer\\anaconda3\\lib\\site-packages (from langchain==0.0.350) (1.24.3)\n",
      "Requirement already satisfied: pydantic<3,>=1 in c:\\users\\acer\\anaconda3\\lib\\site-packages (from langchain==0.0.350) (1.10.8)\n",
      "Requirement already satisfied: requests<3,>=2 in c:\\users\\acer\\anaconda3\\lib\\site-packages (from langchain==0.0.350) (2.31.0)\n",
      "Requirement already satisfied: tenacity<9.0.0,>=8.1.0 in c:\\users\\acer\\anaconda3\\lib\\site-packages (from langchain==0.0.350) (8.2.2)\n",
      "Requirement already satisfied: attrs>=17.3.0 in c:\\users\\acer\\anaconda3\\lib\\site-packages (from aiohttp<4.0.0,>=3.8.3->langchain==0.0.350) (22.1.0)\n",
      "Requirement already satisfied: charset-normalizer<4.0,>=2.0 in c:\\users\\acer\\anaconda3\\lib\\site-packages (from aiohttp<4.0.0,>=3.8.3->langchain==0.0.350) (2.0.4)\n",
      "Requirement already satisfied: multidict<7.0,>=4.5 in c:\\users\\acer\\anaconda3\\lib\\site-packages (from aiohttp<4.0.0,>=3.8.3->langchain==0.0.350) (6.0.2)\n",
      "Requirement already satisfied: async-timeout<5.0,>=4.0.0a3 in c:\\users\\acer\\anaconda3\\lib\\site-packages (from aiohttp<4.0.0,>=3.8.3->langchain==0.0.350) (4.0.2)\n",
      "Requirement already satisfied: yarl<2.0,>=1.0 in c:\\users\\acer\\anaconda3\\lib\\site-packages (from aiohttp<4.0.0,>=3.8.3->langchain==0.0.350) (1.8.1)\n",
      "Requirement already satisfied: frozenlist>=1.1.1 in c:\\users\\acer\\anaconda3\\lib\\site-packages (from aiohttp<4.0.0,>=3.8.3->langchain==0.0.350) (1.3.3)\n",
      "Requirement already satisfied: aiosignal>=1.1.2 in c:\\users\\acer\\anaconda3\\lib\\site-packages (from aiohttp<4.0.0,>=3.8.3->langchain==0.0.350) (1.2.0)\n",
      "Requirement already satisfied: marshmallow<4.0.0,>=3.18.0 in c:\\users\\acer\\anaconda3\\lib\\site-packages (from dataclasses-json<0.7,>=0.5.7->langchain==0.0.350) (3.20.1)\n",
      "Requirement already satisfied: typing-inspect<1,>=0.4.0 in c:\\users\\acer\\anaconda3\\lib\\site-packages (from dataclasses-json<0.7,>=0.5.7->langchain==0.0.350) (0.9.0)\n",
      "Requirement already satisfied: jsonpointer>=1.9 in c:\\users\\acer\\anaconda3\\lib\\site-packages (from jsonpatch<2.0,>=1.33->langchain==0.0.350) (2.1)\n",
      "Requirement already satisfied: anyio<5,>=3 in c:\\users\\acer\\anaconda3\\lib\\site-packages (from langchain-core<0.2,>=0.1->langchain==0.0.350) (3.5.0)\n",
      "Requirement already satisfied: packaging<24.0,>=23.2 in c:\\users\\acer\\anaconda3\\lib\\site-packages (from langchain-core<0.2,>=0.1->langchain==0.0.350) (23.2)\n",
      "Requirement already satisfied: typing-extensions>=4.2.0 in c:\\users\\acer\\anaconda3\\lib\\site-packages (from pydantic<3,>=1->langchain==0.0.350) (4.7.1)\n",
      "Requirement already satisfied: idna<4,>=2.5 in c:\\users\\acer\\anaconda3\\lib\\site-packages (from requests<3,>=2->langchain==0.0.350) (3.4)\n",
      "Requirement already satisfied: urllib3<3,>=1.21.1 in c:\\users\\acer\\anaconda3\\lib\\site-packages (from requests<3,>=2->langchain==0.0.350) (1.26.16)\n",
      "Requirement already satisfied: certifi>=2017.4.17 in c:\\users\\acer\\anaconda3\\lib\\site-packages (from requests<3,>=2->langchain==0.0.350) (2023.7.22)\n",
      "Requirement already satisfied: greenlet!=0.4.17 in c:\\users\\acer\\anaconda3\\lib\\site-packages (from SQLAlchemy<3,>=1.4->langchain==0.0.350) (2.0.1)\n",
      "Requirement already satisfied: sniffio>=1.1 in c:\\users\\acer\\anaconda3\\lib\\site-packages (from anyio<5,>=3->langchain-core<0.2,>=0.1->langchain==0.0.350) (1.2.0)\n",
      "Requirement already satisfied: mypy-extensions>=0.3.0 in c:\\users\\acer\\anaconda3\\lib\\site-packages (from typing-inspect<1,>=0.4.0->dataclasses-json<0.7,>=0.5.7->langchain==0.0.350) (1.0.0)\n",
      "Downloading langchain-0.0.350-py3-none-any.whl (809 kB)\n",
      "   ---------------------------------------- 0.0/809.1 kB ? eta -:--:--\n",
      "   ---------------------------------------- 0.0/809.1 kB ? eta -:--:--\n",
      "   ---------------------------------------- 0.0/809.1 kB ? eta -:--:--\n",
      "   ---------------------------------------- 0.0/809.1 kB ? eta -:--:--\n",
      "   - -------------------------------------- 30.7/809.1 kB ? eta -:--:--\n",
      "   - ------------------------------------- 41.0/809.1 kB 487.6 kB/s eta 0:00:02\n",
      "   - ------------------------------------- 41.0/809.1 kB 487.6 kB/s eta 0:00:02\n",
      "   - ------------------------------------- 41.0/809.1 kB 487.6 kB/s eta 0:00:02\n",
      "   - ------------------------------------- 41.0/809.1 kB 487.6 kB/s eta 0:00:02\n",
      "   - ------------------------------------- 41.0/809.1 kB 487.6 kB/s eta 0:00:02\n",
      "   - ------------------------------------- 41.0/809.1 kB 487.6 kB/s eta 0:00:02\n",
      "   - ------------------------------------- 41.0/809.1 kB 487.6 kB/s eta 0:00:02\n",
      "   ----- -------------------------------- 112.6/809.1 kB 251.6 kB/s eta 0:00:03\n",
      "   ----- -------------------------------- 112.6/809.1 kB 251.6 kB/s eta 0:00:03\n",
      "   ----- -------------------------------- 112.6/809.1 kB 251.6 kB/s eta 0:00:03\n",
      "   ----- -------------------------------- 112.6/809.1 kB 251.6 kB/s eta 0:00:03\n",
      "   ----- -------------------------------- 112.6/809.1 kB 251.6 kB/s eta 0:00:03\n",
      "   ----- -------------------------------- 112.6/809.1 kB 251.6 kB/s eta 0:00:03\n",
      "   ----- -------------------------------- 112.6/809.1 kB 251.6 kB/s eta 0:00:03\n",
      "   ------------ ------------------------- 256.0/809.1 kB 285.8 kB/s eta 0:00:02\n",
      "   ------------ ------------------------- 256.0/809.1 kB 285.8 kB/s eta 0:00:02\n",
      "   ------------ ------------------------- 256.0/809.1 kB 285.8 kB/s eta 0:00:02\n",
      "   ------------ ------------------------- 256.0/809.1 kB 285.8 kB/s eta 0:00:02\n",
      "   ------------ ------------------------- 256.0/809.1 kB 285.8 kB/s eta 0:00:02\n",
      "   ------------ ------------------------- 256.0/809.1 kB 285.8 kB/s eta 0:00:02\n",
      "   ------------ ------------------------- 256.0/809.1 kB 285.8 kB/s eta 0:00:02\n",
      "   ------------ ------------------------- 256.0/809.1 kB 285.8 kB/s eta 0:00:02\n",
      "   ------------------ ------------------- 389.1/809.1 kB 288.6 kB/s eta 0:00:02\n",
      "   ------------------ ------------------- 389.1/809.1 kB 288.6 kB/s eta 0:00:02\n",
      "   ------------------- ------------------ 419.8/809.1 kB 294.5 kB/s eta 0:00:02\n",
      "   ---------------------- --------------- 471.0/809.1 kB 317.1 kB/s eta 0:00:02\n",
      "   ---------------------------- --------- 604.2/809.1 kB 391.8 kB/s eta 0:00:01\n",
      "   ------------------------------ ------- 655.4/809.1 kB 425.5 kB/s eta 0:00:01\n",
      "   -------------------------------------  809.0/809.1 kB 496.1 kB/s eta 0:00:01\n",
      "   -------------------------------------- 809.1/809.1 kB 491.6 kB/s eta 0:00:00\n",
      "Installing collected packages: langchain\n",
      "  Attempting uninstall: langchain\n",
      "    Found existing installation: langchain 0.0.300\n",
      "    Uninstalling langchain-0.0.300:\n",
      "      Successfully uninstalled langchain-0.0.300\n",
      "Successfully installed langchain-0.0.350\n"
     ]
    }
   ],
   "source": [
    "!pip install langchain==0.0.350"
   ]
  },
  {
   "cell_type": "code",
   "execution_count": 43,
   "id": "66570fb3",
   "metadata": {},
   "outputs": [
    {
     "ename": "NotImplementedError",
     "evalue": "Need to determine which default deprecation schedule to use. within ?? minor releases",
     "output_type": "error",
     "traceback": [
      "\u001b[1;31m---------------------------------------------------------------------------\u001b[0m",
      "\u001b[1;31mNotImplementedError\u001b[0m                       Traceback (most recent call last)",
      "Cell \u001b[1;32mIn[43], line 1\u001b[0m\n\u001b[1;32m----> 1\u001b[0m llm \u001b[38;5;241m=\u001b[39m \u001b[43mGooglePalm\u001b[49m\u001b[43m(\u001b[49m\u001b[43mgoogle_api_key\u001b[49m\u001b[38;5;241;43m=\u001b[39;49m\u001b[43mapi_key\u001b[49m\u001b[43m,\u001b[49m\u001b[43m \u001b[49m\u001b[43mtemperature\u001b[49m\u001b[38;5;241;43m=\u001b[39;49m\u001b[38;5;241;43m0.7\u001b[39;49m\u001b[43m)\u001b[49m\n",
      "File \u001b[1;32m~\\anaconda3\\Lib\\site-packages\\langchain_core\\_api\\deprecation.py:210\u001b[0m, in \u001b[0;36mdeprecated.<locals>.deprecate.<locals>.warning_emitting_wrapper\u001b[1;34m(*args, **kwargs)\u001b[0m\n\u001b[0;32m    200\u001b[0m \u001b[38;5;28;01mdef\u001b[39;00m \u001b[38;5;21mwarning_emitting_wrapper\u001b[39m(\u001b[38;5;241m*\u001b[39margs: Any, \u001b[38;5;241m*\u001b[39m\u001b[38;5;241m*\u001b[39mkwargs: Any) \u001b[38;5;241m-\u001b[39m\u001b[38;5;241m>\u001b[39m Any:\n\u001b[0;32m    201\u001b[0m \u001b[38;5;250m    \u001b[39m\u001b[38;5;124;03m\"\"\"Wrapper for the original wrapped callable that emits a warning.\u001b[39;00m\n\u001b[0;32m    202\u001b[0m \n\u001b[0;32m    203\u001b[0m \u001b[38;5;124;03m    Args:\u001b[39;00m\n\u001b[1;32m   (...)\u001b[0m\n\u001b[0;32m    208\u001b[0m \u001b[38;5;124;03m        The return value of the function being wrapped.\u001b[39;00m\n\u001b[0;32m    209\u001b[0m \u001b[38;5;124;03m    \"\"\"\u001b[39;00m\n\u001b[1;32m--> 210\u001b[0m     \u001b[43memit_warning\u001b[49m\u001b[43m(\u001b[49m\u001b[43m)\u001b[49m\n\u001b[0;32m    211\u001b[0m     \u001b[38;5;28;01mreturn\u001b[39;00m wrapped(\u001b[38;5;241m*\u001b[39margs, \u001b[38;5;241m*\u001b[39m\u001b[38;5;241m*\u001b[39mkwargs)\n",
      "File \u001b[1;32m~\\anaconda3\\Lib\\site-packages\\langchain_core\\_api\\deprecation.py:189\u001b[0m, in \u001b[0;36mdeprecated.<locals>.deprecate.<locals>.emit_warning\u001b[1;34m()\u001b[0m\n\u001b[0;32m    187\u001b[0m \u001b[38;5;28;01mdef\u001b[39;00m \u001b[38;5;21memit_warning\u001b[39m() \u001b[38;5;241m-\u001b[39m\u001b[38;5;241m>\u001b[39m \u001b[38;5;28;01mNone\u001b[39;00m:\n\u001b[0;32m    188\u001b[0m \u001b[38;5;250m    \u001b[39m\u001b[38;5;124;03m\"\"\"Emit the warning.\"\"\"\u001b[39;00m\n\u001b[1;32m--> 189\u001b[0m     \u001b[43mwarn_deprecated\u001b[49m\u001b[43m(\u001b[49m\n\u001b[0;32m    190\u001b[0m \u001b[43m        \u001b[49m\u001b[43msince\u001b[49m\u001b[43m,\u001b[49m\n\u001b[0;32m    191\u001b[0m \u001b[43m        \u001b[49m\u001b[43mmessage\u001b[49m\u001b[38;5;241;43m=\u001b[39;49m\u001b[43m_message\u001b[49m\u001b[43m,\u001b[49m\n\u001b[0;32m    192\u001b[0m \u001b[43m        \u001b[49m\u001b[43mname\u001b[49m\u001b[38;5;241;43m=\u001b[39;49m\u001b[43m_name\u001b[49m\u001b[43m,\u001b[49m\n\u001b[0;32m    193\u001b[0m \u001b[43m        \u001b[49m\u001b[43malternative\u001b[49m\u001b[38;5;241;43m=\u001b[39;49m\u001b[43m_alternative\u001b[49m\u001b[43m,\u001b[49m\n\u001b[0;32m    194\u001b[0m \u001b[43m        \u001b[49m\u001b[43mpending\u001b[49m\u001b[38;5;241;43m=\u001b[39;49m\u001b[43m_pending\u001b[49m\u001b[43m,\u001b[49m\n\u001b[0;32m    195\u001b[0m \u001b[43m        \u001b[49m\u001b[43mobj_type\u001b[49m\u001b[38;5;241;43m=\u001b[39;49m\u001b[43m_obj_type\u001b[49m\u001b[43m,\u001b[49m\n\u001b[0;32m    196\u001b[0m \u001b[43m        \u001b[49m\u001b[43maddendum\u001b[49m\u001b[38;5;241;43m=\u001b[39;49m\u001b[43m_addendum\u001b[49m\u001b[43m,\u001b[49m\n\u001b[0;32m    197\u001b[0m \u001b[43m        \u001b[49m\u001b[43mremoval\u001b[49m\u001b[38;5;241;43m=\u001b[39;49m\u001b[43mremoval\u001b[49m\u001b[43m,\u001b[49m\n\u001b[0;32m    198\u001b[0m \u001b[43m    \u001b[49m\u001b[43m)\u001b[49m\n",
      "File \u001b[1;32m~\\anaconda3\\Lib\\site-packages\\langchain_core\\_api\\deprecation.py:295\u001b[0m, in \u001b[0;36mwarn_deprecated\u001b[1;34m(since, message, name, alternative, pending, obj_type, addendum, removal)\u001b[0m\n\u001b[0;32m    293\u001b[0m \u001b[38;5;28;01mif\u001b[39;00m \u001b[38;5;129;01mnot\u001b[39;00m removal:\n\u001b[0;32m    294\u001b[0m     removal \u001b[38;5;241m=\u001b[39m \u001b[38;5;124mf\u001b[39m\u001b[38;5;124m\"\u001b[39m\u001b[38;5;124min \u001b[39m\u001b[38;5;132;01m{\u001b[39;00mremoval\u001b[38;5;132;01m}\u001b[39;00m\u001b[38;5;124m\"\u001b[39m \u001b[38;5;28;01mif\u001b[39;00m removal \u001b[38;5;28;01melse\u001b[39;00m \u001b[38;5;124m\"\u001b[39m\u001b[38;5;124mwithin ?? minor releases\u001b[39m\u001b[38;5;124m\"\u001b[39m\n\u001b[1;32m--> 295\u001b[0m     \u001b[38;5;28;01mraise\u001b[39;00m \u001b[38;5;167;01mNotImplementedError\u001b[39;00m(\n\u001b[0;32m    296\u001b[0m         \u001b[38;5;124mf\u001b[39m\u001b[38;5;124m\"\u001b[39m\u001b[38;5;124mNeed to determine which default deprecation schedule to use. \u001b[39m\u001b[38;5;124m\"\u001b[39m\n\u001b[0;32m    297\u001b[0m         \u001b[38;5;124mf\u001b[39m\u001b[38;5;124m\"\u001b[39m\u001b[38;5;132;01m{\u001b[39;00mremoval\u001b[38;5;132;01m}\u001b[39;00m\u001b[38;5;124m\"\u001b[39m\n\u001b[0;32m    298\u001b[0m     )\n\u001b[0;32m    299\u001b[0m \u001b[38;5;28;01melse\u001b[39;00m:\n\u001b[0;32m    300\u001b[0m     removal \u001b[38;5;241m=\u001b[39m \u001b[38;5;124mf\u001b[39m\u001b[38;5;124m\"\u001b[39m\u001b[38;5;124min \u001b[39m\u001b[38;5;132;01m{\u001b[39;00mremoval\u001b[38;5;132;01m}\u001b[39;00m\u001b[38;5;124m\"\u001b[39m\n",
      "\u001b[1;31mNotImplementedError\u001b[0m: Need to determine which default deprecation schedule to use. within ?? minor releases"
     ]
    }
   ],
   "source": [
    "llm = GooglePalm(google_api_key=api_key, temperature=0.7)"
   ]
  },
  {
   "cell_type": "code",
   "execution_count": null,
   "id": "157fabfb",
   "metadata": {},
   "outputs": [],
   "source": []
  }
 ],
 "metadata": {
  "kernelspec": {
   "display_name": "sql_llm",
   "language": "python",
   "name": "sql_llm"
  },
  "language_info": {
   "codemirror_mode": {
    "name": "ipython",
    "version": 3
   },
   "file_extension": ".py",
   "mimetype": "text/x-python",
   "name": "python",
   "nbconvert_exporter": "python",
   "pygments_lexer": "ipython3",
   "version": "3.11.5"
  }
 },
 "nbformat": 4,
 "nbformat_minor": 5
}
