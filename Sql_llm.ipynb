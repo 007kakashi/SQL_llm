{
 "cells": [
  {
   "cell_type": "code",
   "execution_count": 5,
   "id": "769af49a",
   "metadata": {},
   "outputs": [],
   "source": [
    "from langchain.llms import GooglePalm\n",
    "from dotenv import load_dotenv\n",
    "import os\n",
    "\n",
    "load_dotenv()\n",
    "api_key = os.getenv('GOOGLE_API_KEY')"
   ]
  },
  {
   "cell_type": "code",
   "execution_count": 7,
   "id": "143333c8",
   "metadata": {},
   "outputs": [
    {
     "name": "stderr",
     "output_type": "stream",
     "text": [
      "C:\\ML Projects\\LLM - Projects\\SQL_LLM\\sql_llm\\Lib\\site-packages\\tqdm\\auto.py:21: TqdmWarning: IProgress not found. Please update jupyter and ipywidgets. See https://ipywidgets.readthedocs.io/en/stable/user_install.html\n",
      "  from .autonotebook import tqdm as notebook_tqdm\n"
     ]
    }
   ],
   "source": [
    "llm = GooglePalm(google_api_key= api_key, temperature=0.7)"
   ]
  },
  {
   "cell_type": "code",
   "execution_count": 18,
   "id": "a0563802",
   "metadata": {},
   "outputs": [
    {
     "name": "stdout",
     "output_type": "stream",
     "text": [
      "**Vada Pav**\n",
      "\n",
      "**Ingredients:**\n",
      "\n",
      "* **For the Vada:**\n",
      "    * 1 cup besan (chickpea flour)\n",
      "    * 1/2 cup finely chopped onions\n",
      "    * 1/2 cup finely chopped tomatoes\n",
      "    * 1/2 cup finely chopped cilantro\n",
      "    * 1 green chili, finely chopped\n",
      "    * 1 teaspoon ginger-garlic paste\n",
      "    * 1 teaspoon red chili powder\n",
      "    * 1/2 teaspoon turmeric powder\n",
      "    * 1/2 teaspoon cumin powder\n",
      "    * 1/4 teaspoon garam masala powder\n",
      "    * 1/4 teaspoon amchur powder (dry mango powder)\n",
      "    * 1/2 teaspoon salt\n",
      "    * Oil for frying\n",
      "\n",
      "* **For the Pav:**\n",
      "    * 4 pav buns\n",
      "    * 1 tablespoon butter, melted\n",
      "\n",
      "**Instructions:**\n",
      "\n",
      "1. To make the vada, mix together the besan, onions, tomatoes, cilantro, green chili, ginger-garlic paste, red chili powder, turmeric powder, cumin powder, garam masala powder, amchur powder, and salt in a large bowl.\n",
      "2. Add enough water to make a thick batter. The batter should be thick enough to hold its shape when dropped into hot oil.\n",
      "3. Heat 1 inch of oil in a large frying pan over medium heat.\n",
      "4. Once the oil is hot, drop spoonfuls of the batter into the hot oil. Fry the vadas until they are golden brown on all sides.\n",
      "5. Remove the vadas from the oil and drain them on paper towels.\n",
      "6. To make the pav, split the buns in half. Toast the buns in a toaster oven or under a broiler until they are warm and slightly browned.\n",
      "7. Spread some butter on the inside of each bun half.\n",
      "8. Place a vada on each bun half.\n",
      "9. Serve immediately.\n",
      "\n",
      "**Total Time:** 45 minutes\n",
      "\n",
      "**Yield:** 4 servings\n"
     ]
    }
   ],
   "source": [
    "print(llm('how to make vada paav with time calculation'))"
   ]
  },
  {
   "cell_type": "code",
   "execution_count": null,
   "id": "2302fbb4",
   "metadata": {},
   "outputs": [],
   "source": []
  }
 ],
 "metadata": {
  "kernelspec": {
   "display_name": "sql_llm",
   "language": "python",
   "name": "sql_llm"
  },
  "language_info": {
   "codemirror_mode": {
    "name": "ipython",
    "version": 3
   },
   "file_extension": ".py",
   "mimetype": "text/x-python",
   "name": "python",
   "nbconvert_exporter": "python",
   "pygments_lexer": "ipython3",
   "version": "3.11.7"
  }
 },
 "nbformat": 4,
 "nbformat_minor": 5
}
