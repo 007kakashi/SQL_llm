{
 "cells": [
  {
   "cell_type": "code",
   "execution_count": 1,
   "id": "769af49a",
   "metadata": {},
   "outputs": [],
   "source": [
    "from langchain.llms import GooglePalm\n",
    "from dotenv import load_dotenv\n",
    "import os\n",
    "\n",
    "load_dotenv()\n",
    "api_key = os.getenv('GOOGLE_API_KEY')"
   ]
  },
  {
   "cell_type": "code",
   "execution_count": 2,
   "id": "143333c8",
   "metadata": {},
   "outputs": [
    {
     "name": "stderr",
     "output_type": "stream",
     "text": [
      "C:\\ML Projects\\LLM - Projects\\SQL_LLM\\sql_llm\\Lib\\site-packages\\tqdm\\auto.py:21: TqdmWarning: IProgress not found. Please update jupyter and ipywidgets. See https://ipywidgets.readthedocs.io/en/stable/user_install.html\n",
      "  from .autonotebook import tqdm as notebook_tqdm\n"
     ]
    }
   ],
   "source": [
    "llm = GooglePalm(google_api_key= api_key, temperature=0.7)"
   ]
  },
  {
   "cell_type": "code",
   "execution_count": 3,
   "id": "a0563802",
   "metadata": {},
   "outputs": [
    {
     "name": "stdout",
     "output_type": "stream",
     "text": [
      "**Ingredients**\n",
      "\n",
      "For the vadas:\n",
      "\n",
      "* 1 cup urad dal (black gram lentils)\n",
      "* 1/2 cup idli rice\n",
      "* 1/2 cup water\n",
      "* 1 teaspoon cumin seeds\n",
      "* 1/2 teaspoon salt\n",
      "* 1/4 teaspoon turmeric powder\n",
      "* Vegetable oil, for frying\n",
      "\n",
      "For the paav:\n",
      "\n",
      "* 4 large bread rolls, split in half\n",
      "* 1 cup of potato curry\n",
      "* 1/2 cup of green chutney\n",
      "* 1/2 cup of tamarind chutney\n",
      "* 1/4 cup of finely chopped onions\n",
      "* 1/4 cup of finely chopped tomatoes\n",
      "* 1/4 cup of finely chopped cilantro leaves\n",
      "\n",
      "**Instructions**\n",
      "\n",
      "**To make the vadas:**\n",
      "\n",
      "1. Soak the urad dal and idli rice in water for 6-8 hours.\n",
      "2. Drain the water and grind the lentils and rice together to a smooth paste. Add the cumin seeds, salt, and turmeric powder and mix well.\n",
      "3. Heat some oil in a deep frying pan.\n",
      "4. Take small balls of the vada batter and flatten them slightly.\n",
      "5. Fry the vadas in the hot oil until golden brown on all sides.\n",
      "6. Remove the vadas from the oil and drain on paper towels.\n",
      "\n",
      "**To make the paav:**\n",
      "\n",
      "1. Toast the bread rolls in a toaster oven or under a broiler until golden brown.\n",
      "2. Spread some potato curry on the bottom half of each bread roll.\n",
      "3. Top with a vada, then some green chutney, tamarind chutney, onions, tomatoes, and cilantro leaves.\n",
      "4. Serve immediately.\n",
      "\n",
      "**Total time:** 1 hour 30 minutes\n"
     ]
    }
   ],
   "source": [
    "print(llm('how to make vada paav with time calculation'))"
   ]
  },
  {
   "cell_type": "code",
   "execution_count": null,
   "id": "2302fbb4",
   "metadata": {},
   "outputs": [],
   "source": []
  },
  {
   "cell_type": "markdown",
   "id": "ad8ad0d4",
   "metadata": {},
   "source": [
    "## Now we are connecting with our database from MySQL"
   ]
  },
  {
   "cell_type": "code",
   "execution_count": 4,
   "id": "be9577fa",
   "metadata": {},
   "outputs": [],
   "source": [
    "from langchain.utilities import SQLDatabase"
   ]
  },
  {
   "cell_type": "code",
   "execution_count": 5,
   "id": "9a9f7e9d",
   "metadata": {},
   "outputs": [],
   "source": [
    "db_user ='root'\n",
    "db_password ='root'\n",
    "db_host ='localhost'\n",
    "db_name ='atliq_tshirts'"
   ]
  },
  {
   "cell_type": "code",
   "execution_count": 6,
   "id": "e531ade9",
   "metadata": {},
   "outputs": [],
   "source": [
    "db = SQLDatabase.from_uri(f\"mysql+pymysql://{db_user}:{db_password}@{db_host}/{db_name}\", sample_rows_in_table_info=3)"
   ]
  },
  {
   "cell_type": "code",
   "execution_count": 7,
   "id": "43ab056c",
   "metadata": {},
   "outputs": [
    {
     "name": "stdout",
     "output_type": "stream",
     "text": [
      "\n",
      "CREATE TABLE discounts (\n",
      "\tdiscount_id INTEGER NOT NULL AUTO_INCREMENT, \n",
      "\tt_shirt_id INTEGER NOT NULL, \n",
      "\tpct_discount DECIMAL(5, 2), \n",
      "\tPRIMARY KEY (discount_id), \n",
      "\tCONSTRAINT discounts_ibfk_1 FOREIGN KEY(t_shirt_id) REFERENCES t_shirts (t_shirt_id), \n",
      "\tCONSTRAINT discounts_chk_1 CHECK ((`pct_discount` between 0 and 100))\n",
      ")COLLATE utf8mb4_0900_ai_ci ENGINE=InnoDB DEFAULT CHARSET=utf8mb4\n",
      "\n",
      "/*\n",
      "3 rows from discounts table:\n",
      "discount_id\tt_shirt_id\tpct_discount\n",
      "1\t1\t10.00\n",
      "2\t2\t15.00\n",
      "3\t3\t20.00\n",
      "*/\n",
      "\n",
      "\n",
      "CREATE TABLE t_shirts (\n",
      "\tt_shirt_id INTEGER NOT NULL AUTO_INCREMENT, \n",
      "\tbrand ENUM('Van Huesen','Levi','Nike','Adidas') NOT NULL, \n",
      "\tcolor ENUM('Red','Blue','Black','White') NOT NULL, \n",
      "\tsize ENUM('XS','S','M','L','XL') NOT NULL, \n",
      "\tprice INTEGER, \n",
      "\tstock_quantity INTEGER NOT NULL, \n",
      "\tPRIMARY KEY (t_shirt_id), \n",
      "\tCONSTRAINT t_shirts_chk_1 CHECK ((`price` between 10 and 50))\n",
      ")COLLATE utf8mb4_0900_ai_ci ENGINE=InnoDB DEFAULT CHARSET=utf8mb4\n",
      "\n",
      "/*\n",
      "3 rows from t_shirts table:\n",
      "t_shirt_id\tbrand\tcolor\tsize\tprice\tstock_quantity\n",
      "1\tNike\tBlue\tM\t50\t33\n",
      "2\tLevi\tBlack\tL\t28\t16\n",
      "3\tVan Huesen\tWhite\tM\t47\t98\n",
      "*/\n"
     ]
    }
   ],
   "source": [
    "print(db.table_info)"
   ]
  },
  {
   "cell_type": "code",
   "execution_count": null,
   "id": "7dbb7a33",
   "metadata": {},
   "outputs": [],
   "source": []
  },
  {
   "cell_type": "code",
   "execution_count": 8,
   "id": "da1bd21c",
   "metadata": {},
   "outputs": [],
   "source": [
    "from langchain_experimental.sql import SQLDatabaseChain"
   ]
  },
  {
   "cell_type": "code",
   "execution_count": 9,
   "id": "4c38c0d5",
   "metadata": {},
   "outputs": [
    {
     "name": "stderr",
     "output_type": "stream",
     "text": [
      "C:\\ML Projects\\LLM - Projects\\SQL_LLM\\sql_llm\\Lib\\site-packages\\langchain_experimental\\sql\\base.py:75: UserWarning: Directly instantiating an SQLDatabaseChain with an llm is deprecated. Please instantiate with llm_chain argument or using the from_llm class method.\n",
      "  warnings.warn(\n"
     ]
    }
   ],
   "source": [
    "db_chain = SQLDatabaseChain(llm = llm, database = db, verbose = True)"
   ]
  },
  {
   "cell_type": "code",
   "execution_count": 10,
   "id": "87918df5",
   "metadata": {},
   "outputs": [
    {
     "name": "stdout",
     "output_type": "stream",
     "text": [
      "\n",
      "\n",
      "\u001b[1m> Entering new SQLDatabaseChain chain...\u001b[0m\n",
      "how many nike tshirts in small size\n",
      "SQLQuery:\u001b[32;1m\u001b[1;3mSELECT count(*) FROM t_shirts WHERE brand = 'Nike' AND size = 'S'\u001b[0m\n",
      "SQLResult: \u001b[33;1m\u001b[1;3m[(3,)]\u001b[0m\n",
      "Answer:\u001b[32;1m\u001b[1;3m3\u001b[0m\n",
      "\u001b[1m> Finished chain.\u001b[0m\n"
     ]
    }
   ],
   "source": [
    "q1 = db_chain.run('how many nike tshirts in small size')"
   ]
  },
  {
   "cell_type": "code",
   "execution_count": 11,
   "id": "d8599cf4",
   "metadata": {},
   "outputs": [
    {
     "data": {
      "text/plain": [
       "'3'"
      ]
     },
     "execution_count": 11,
     "metadata": {},
     "output_type": "execute_result"
    }
   ],
   "source": [
    "q1"
   ]
  },
  {
   "cell_type": "code",
   "execution_count": 12,
   "id": "6536dcd3",
   "metadata": {},
   "outputs": [
    {
     "name": "stdout",
     "output_type": "stream",
     "text": [
      "\n",
      "\n",
      "\u001b[1m> Entering new SQLDatabaseChain chain...\u001b[0m\n",
      "how much is the price of inventory for all small size tshirts?\n",
      "SQLQuery:\u001b[32;1m\u001b[1;3mSELECT SUM(price * stock_quantity) \n",
      "FROM t_shirts \n",
      "WHERE size = 'S'\u001b[0m\n",
      "SQLResult: \u001b[33;1m\u001b[1;3m[(Decimal('20689'),)]\u001b[0m\n",
      "Answer:\u001b[32;1m\u001b[1;3m20689\u001b[0m\n",
      "\u001b[1m> Finished chain.\u001b[0m\n"
     ]
    }
   ],
   "source": [
    "q2 = db_chain.run('how much is the price of inventory for all small size tshirts?')"
   ]
  },
  {
   "cell_type": "markdown",
   "id": "af22b386",
   "metadata": {},
   "source": [
    "in the above example we could have like wrong answer i dont how did it manage to give correct answer bt we will giver it few more  defilcult so we will decide how we can improve it "
   ]
  },
  {
   "cell_type": "code",
   "execution_count": 13,
   "id": "7d6abe3d",
   "metadata": {},
   "outputs": [],
   "source": [
    "# q3 = db_chain.run('if we have to sell all the levis tshorts today with discount applied how much our store will genrate')"
   ]
  },
  {
   "cell_type": "markdown",
   "id": "3e3a8666",
   "metadata": {},
   "source": [
    "see in this question is dificult to address like its complex query and many it is using its own genrel knowledge like usually \n",
    "wehen get this question there should be coulumns like start date of discount and end date of discount we cant give discount all days so problem was that in our database we did not have any columns like startdate and enddate theen it uses oown knowledege without looking into database so we have to solve this problem suing concept of \"few shot learning\" lets see how we will use it"
   ]
  },
  {
   "cell_type": "code",
   "execution_count": 14,
   "id": "86014733",
   "metadata": {},
   "outputs": [
    {
     "name": "stdout",
     "output_type": "stream",
     "text": [
      "\n",
      "\n",
      "\u001b[1m> Entering new SQLDatabaseChain chain...\u001b[0m\n",
      "\n",
      "select sum(a.total_amount * ((100-COALESCE(discounts.pct_discount,0))/100)) as total_revenue from\n",
      "(select sum(price*stock_quantity) as total_amount, t_shirt_id from t_shirts where brand = 'Levi'\n",
      "group by t_shirt_id) a left join discounts on a.t_shirt_id = discounts.t_shirt_id\n",
      " \n",
      "SQLQuery:\u001b[32;1m\u001b[1;3mselect sum(a.total_amount * ((100-COALESCE(discounts.pct_discount,0))/100)) as total_revenue from\n",
      "(select sum(price*stock_quantity) as total_amount, t_shirt_id from t_shirts where brand = 'Levi'\n",
      "group by t_shirt_id) a left join discounts on a.t_shirt_id = discounts.t_shirt_id\u001b[0m\n",
      "SQLResult: \u001b[33;1m\u001b[1;3m[(Decimal('17178.550000'),)]\u001b[0m\n",
      "Answer:\u001b[32;1m\u001b[1;3m17178.55\u001b[0m\n",
      "\u001b[1m> Finished chain.\u001b[0m\n"
     ]
    }
   ],
   "source": [
    "sql_code = \"\"\"\n",
    "select sum(a.total_amount * ((100-COALESCE(discounts.pct_discount,0))/100)) as total_revenue from\n",
    "(select sum(price*stock_quantity) as total_amount, t_shirt_id from t_shirts where brand = 'Levi'\n",
    "group by t_shirt_id) a left join discounts on a.t_shirt_id = discounts.t_shirt_id\n",
    " \"\"\"\n",
    "\n",
    "q3 = db_chain.run(sql_code)"
   ]
  },
  {
   "cell_type": "code",
   "execution_count": 15,
   "id": "be3b2ec1",
   "metadata": {},
   "outputs": [
    {
     "name": "stdout",
     "output_type": "stream",
     "text": [
      "\n",
      "\n",
      "\u001b[1m> Entering new SQLDatabaseChain chain...\u001b[0m\n",
      "SELECT SUM(price * stock_quantity) FROM t_shirts WHERE brand = 'Levi'\n",
      "SQLQuery:\u001b[32;1m\u001b[1;3mSELECT SUM(price * stock_quantity) FROM t_shirts WHERE brand = 'Levi'\u001b[0m\n",
      "SQLResult: \u001b[33;1m\u001b[1;3m[(Decimal('17482'),)]\u001b[0m\n",
      "Answer:\u001b[32;1m\u001b[1;3m17482\u001b[0m\n",
      "\u001b[1m> Finished chain.\u001b[0m\n"
     ]
    }
   ],
   "source": [
    "q4 = db_chain.run(\"SELECT SUM(price * stock_quantity) FROM t_shirts WHERE brand = 'Levi'\")"
   ]
  },
  {
   "cell_type": "code",
   "execution_count": 16,
   "id": "256bd33d",
   "metadata": {},
   "outputs": [
    {
     "name": "stdout",
     "output_type": "stream",
     "text": [
      "\n",
      "\n",
      "\u001b[1m> Entering new SQLDatabaseChain chain...\u001b[0m\n",
      "How many white color Levi's t shirts we have available?\n",
      "SQLQuery:\u001b[32;1m\u001b[1;3mSELECT stock_quantity FROM t_shirts WHERE brand = 'Levi' AND color = 'White'\u001b[0m\n",
      "SQLResult: \u001b[33;1m\u001b[1;3m[(70,), (17,), (15,)]\u001b[0m\n",
      "Answer:\u001b[32;1m\u001b[1;3m17\u001b[0m\n",
      "\u001b[1m> Finished chain.\u001b[0m\n"
     ]
    }
   ],
   "source": [
    "q5 = db_chain.run(\"How many white color Levi's t shirts we have available?\")"
   ]
  },
  {
   "cell_type": "markdown",
   "id": "72989677",
   "metadata": {},
   "source": [
    "Once again above is the wrong answer. We need to use SUM(stock_quantity). Let's run the query explicitly. We will use the result of this query later on in the notebook"
   ]
  },
  {
   "cell_type": "code",
   "execution_count": 17,
   "id": "8afd6373",
   "metadata": {},
   "outputs": [
    {
     "name": "stdout",
     "output_type": "stream",
     "text": [
      "\n",
      "\n",
      "\u001b[1m> Entering new SQLDatabaseChain chain...\u001b[0m\n",
      "SELECT sum(stock_quantity) FROM t_shirts WHERE brand = 'Levi' AND color = 'White'\n",
      "SQLQuery:\u001b[32;1m\u001b[1;3mSELECT sum(stock_quantity) FROM t_shirts WHERE brand = 'Levi' AND color = 'White'\u001b[0m\n",
      "SQLResult: \u001b[33;1m\u001b[1;3m[(Decimal('102'),)]\u001b[0m\n",
      "Answer:\u001b[32;1m\u001b[1;3m102\u001b[0m\n",
      "\u001b[1m> Finished chain.\u001b[0m\n"
     ]
    }
   ],
   "source": [
    "qns5 = db_chain.run(\"SELECT sum(stock_quantity) FROM t_shirts WHERE brand = 'Levi' AND color = 'White'\")"
   ]
  },
  {
   "cell_type": "markdown",
   "id": "0b72740e",
   "metadata": {},
   "source": [
    "### Few shot learning\n",
    "\n",
    "We will use few shot learning to fix issues we have seen so far"
   ]
  },
  {
   "cell_type": "code",
   "execution_count": 18,
   "id": "f79f4e7b",
   "metadata": {},
   "outputs": [],
   "source": [
    "few_shots = [\n",
    "    {'Question': \"If we have to sell all the Levi’s T-shirts today with discounts applied. How much revenue  our store will generate (post discounts)?\" ,\n",
    "     'SQLQuery' : \"\"\"SELECT sum(a.total_amount * ((100-COALESCE(discounts.pct_discount,0))/100)) as total_revenue from\n",
    "(select sum(price*stock_quantity) as total_amount, t_shirt_id from t_shirts where brand = 'Levi'\n",
    "group by t_shirt_id) a left join discounts on a.t_shirt_id = discounts.t_shirt_id\n",
    " \"\"\",\n",
    "     'SQLResult': \"Result of the SQL query\",\n",
    "     'Answer': q3} ,\n",
    "    \n",
    "     {'Question' : \"If we have to sell all the Levi’s T-shirts today. How much revenue our store will generate without discount?\" ,\n",
    "      'SQLQuery': \"SELECT SUM(price * stock_quantity) FROM t_shirts WHERE brand = 'Levi'\",\n",
    "      'SQLResult': \"Result of the SQL query\",\n",
    "      'Answer' : q4},\n",
    "    \n",
    "    {'Question': \"How many white color Levi's shirt I have?\",\n",
    "     'SQLQuery' : \"SELECT sum(stock_quantity) FROM t_shirts WHERE brand = 'Levi' AND color = 'White'\",\n",
    "     'SQLResult': \"Result of the SQL query\",\n",
    "     'Answer' : q5\n",
    "     }\n",
    "]"
   ]
  },
  {
   "cell_type": "code",
   "execution_count": 19,
   "id": "c75ef9a5",
   "metadata": {},
   "outputs": [],
   "source": [
    "exmpl = {'Question': \"How many white color Levi's shirt I have?\",\n",
    "     'SQLQuery' : \"SELECT sum(stock_quantity) FROM t_shirts WHERE brand = 'Levi' AND color = 'White'\",\n",
    "     'SQLResult': \"Result of the SQL query\",\n",
    "     'Answer' : str(q5)\n",
    "     }"
   ]
  },
  {
   "cell_type": "markdown",
   "id": "846de8e2",
   "metadata": {},
   "source": [
    "# Embedding"
   ]
  },
  {
   "cell_type": "code",
   "execution_count": 20,
   "id": "fccc4801",
   "metadata": {},
   "outputs": [],
   "source": [
    "from langchain.embeddings import HuggingFaceBgeEmbeddings"
   ]
  },
  {
   "cell_type": "code",
   "execution_count": null,
   "id": "d8215887",
   "metadata": {},
   "outputs": [],
   "source": [
    "embeddings = HuggingFaceBgeEmbeddings(model_name = 'sentence-transformers/all-MiniLM-L6-v2')"
   ]
  },
  {
   "cell_type": "code",
   "execution_count": null,
   "id": "11f02fd0",
   "metadata": {},
   "outputs": [],
   "source": [
    "string = \"How many white color Levi's shirt I have? SELECT sum(stock_quantity) FROM t_shirts WHERE brand = 'Levi' AND color = 'White',Result of the SQL query,q5\""
   ]
  },
  {
   "cell_type": "code",
   "execution_count": null,
   "id": "d990a75d",
   "metadata": {},
   "outputs": [],
   "source": [
    "emb_exmpl = embeddings.embed_query(string)"
   ]
  },
  {
   "cell_type": "code",
   "execution_count": null,
   "id": "a1c116a5",
   "metadata": {},
   "outputs": [],
   "source": [
    "emb"
   ]
  },
  {
   "cell_type": "code",
   "execution_count": null,
   "id": "e881bed1",
   "metadata": {},
   "outputs": [],
   "source": [
    "len(emb),emb[:5]"
   ]
  },
  {
   "cell_type": "code",
   "execution_count": null,
   "id": "2066e6d6",
   "metadata": {},
   "outputs": [],
   "source": [
    "to_vectorize = [''.join(i.values()) for i in few_shots]"
   ]
  },
  {
   "cell_type": "code",
   "execution_count": null,
   "id": "1f84828d",
   "metadata": {},
   "outputs": [],
   "source": [
    "to_vectorize[2]"
   ]
  },
  {
   "cell_type": "markdown",
   "id": "a1d243f1",
   "metadata": {},
   "source": [
    "# VectorStore"
   ]
  },
  {
   "cell_type": "markdown",
   "id": "bcf29954",
   "metadata": {},
   "source": [
    "we have to store this embeding somewhere so to store this embding we have vectorStore so we can store aur embeding into this"
   ]
  },
  {
   "cell_type": "markdown",
   "id": "82b0f8b8",
   "metadata": {},
   "source": [
    "the job of VectorStore is to take input questions convert into embedings and find the similar looking few shots examples"
   ]
  },
  {
   "cell_type": "code",
   "execution_count": null,
   "id": "64b0cd16",
   "metadata": {},
   "outputs": [],
   "source": [
    "from langchain.vectorstores import Chroma"
   ]
  },
  {
   "cell_type": "code",
   "execution_count": null,
   "id": "2986f0c0",
   "metadata": {},
   "outputs": [],
   "source": [
    "# !pip install chromadb==0.4.15"
   ]
  },
  {
   "cell_type": "code",
   "execution_count": null,
   "id": "f72114bb",
   "metadata": {},
   "outputs": [],
   "source": [
    "to_vectorize"
   ]
  },
  {
   "cell_type": "code",
   "execution_count": null,
   "id": "c4848cd1",
   "metadata": {},
   "outputs": [],
   "source": [
    "vectorstore = Chroma.from_texts(to_vectorize, \n",
    "                                embedding= embeddings, \n",
    "                                metadatas= few_shots)"
   ]
  },
  {
   "cell_type": "code",
   "execution_count": null,
   "id": "b41bb12a",
   "metadata": {},
   "outputs": [],
   "source": [
    "texts = [\"Sample text 1\", \"Sample text 2\", \"Sample text 3\"]\n",
    "metadatas = [{\"metadata_key\": \"metadata_value\"} for _ in range(len(texts))]\n",
    "ids = ['id1', 'id2', 'id3']\n",
    "\n",
    "# Attempt to create the VectorStore using the simplified data\n",
    "vectorstore = Chroma.from_texts(texts=texts, metadatas=metadatas, ids=ids)\n"
   ]
  },
  {
   "cell_type": "markdown",
   "id": "5def4a92",
   "metadata": {},
   "source": [
    "becouse of some issue i am not able to use perform this code so i check there documentation and get to know that they have made some changes "
   ]
  },
  {
   "cell_type": "markdown",
   "id": "88837676",
   "metadata": {},
   "source": [
    "# Exploring ChromaDB "
   ]
  },
  {
   "cell_type": "code",
   "execution_count": null,
   "id": "5bf22ec7",
   "metadata": {},
   "outputs": [],
   "source": [
    "import chromadb\n",
    "from chromadb.config import Settings"
   ]
  },
  {
   "cell_type": "code",
   "execution_count": null,
   "id": "093a9ec1",
   "metadata": {},
   "outputs": [],
   "source": [
    "import chromadb\n",
    "client = chromadb.PersistentClient(path=\"/path/to/persist/directory\")"
   ]
  },
  {
   "cell_type": "code",
   "execution_count": null,
   "id": "86d895e3",
   "metadata": {},
   "outputs": [],
   "source": [
    "collection = client.create_collection('my_info')"
   ]
  },
  {
   "cell_type": "code",
   "execution_count": null,
   "id": "93b5c029",
   "metadata": {},
   "outputs": [],
   "source": [
    "# collection.add(\n",
    "#     documents=to_vectorize,\n",
    "#     metadatas=[\n",
    "#             {'Question': \"If we have to sell all the Levi’s T-shirts today with discounts applied. How much revenue  our store will generate (post discounts)?\" ,\n",
    "#      'SQLQuery' : \"\"\"SELECT sum(a.total_amount * ((100-COALESCE(discounts.pct_discount,0))/100)) as total_revenue from\n",
    "# (select sum(price*stock_quantity) as total_amount, t_shirt_id from t_shirts where brand = 'Levi'\n",
    "# group by t_shirt_id) a left join discounts on a.t_shirt_id = discounts.t_shirt_id\n",
    "#  \"\"\",\n",
    "#      'SQLResult': \"Result of the SQL query\",\n",
    "#      'Answer': q3} ,\n",
    "    \n",
    "#      {'Question' : \"If we have to sell all the Levi’s T-shirts today. How much revenue our store will generate without discount?\" ,\n",
    "#       'SQLQuery': \"SELECT SUM(price * stock_quantity) FROM t_shirts WHERE brand = 'Levi'\",\n",
    "#       'SQLResult': \"Result of the SQL query\",\n",
    "#       'Answer' : q4},\n",
    "    \n",
    "#     {'Question': \"How many white color Levi's shirt I have?\",\n",
    "#      'SQLQuery' : \"SELECT sum(stock_quantity) FROM t_shirts WHERE brand = 'Levi' AND color = 'White'\",\n",
    "#      'SQLResult': \"Result of the SQL query\",\n",
    "#      'Answer' : q5\n",
    "#      }\n",
    "#     ],\n",
    "#     ids=['id1', 'id2' ,'id3']\n",
    "# )\n"
   ]
  },
  {
   "cell_type": "code",
   "execution_count": null,
   "id": "4740841f",
   "metadata": {},
   "outputs": [],
   "source": [
    "collection.add(ids=['id1','id2','id3'],\n",
    "              metadatas= few_shots,\n",
    "              documents=to_vectorize)"
   ]
  },
  {
   "cell_type": "code",
   "execution_count": null,
   "id": "2702d329",
   "metadata": {},
   "outputs": [],
   "source": [
    "# collection.delete(ids=['id1','id2','id3'],)"
   ]
  },
  {
   "cell_type": "code",
   "execution_count": null,
   "id": "e23621e9",
   "metadata": {},
   "outputs": [],
   "source": [
    "collection.peek()"
   ]
  },
  {
   "cell_type": "code",
   "execution_count": null,
   "id": "b265b011",
   "metadata": {},
   "outputs": [],
   "source": [
    "from langchain.prompts import SemanticSimilarityExampleSelector"
   ]
  },
  {
   "cell_type": "code",
   "execution_count": null,
   "id": "04ddd9c3",
   "metadata": {},
   "outputs": [],
   "source": [
    "# example_selector = SemanticSimilarityExampleSelector(vectorstore= collection, k=2)"
   ]
  },
  {
   "cell_type": "markdown",
   "id": "1d7f139a",
   "metadata": {},
   "source": [
    "this wont work for use coz we have used diffrent approch "
   ]
  },
  {
   "cell_type": "code",
   "execution_count": null,
   "id": "a9e99ca0",
   "metadata": {},
   "outputs": [],
   "source": [
    "few_shots[1]"
   ]
  },
  {
   "cell_type": "code",
   "execution_count": null,
   "id": "16d5690c",
   "metadata": {},
   "outputs": [],
   "source": [
    "example_1 = collection.query(query_texts=[\"If we have to sell all the Levi’s T-shirts today. How much revenue our store will generate without discount?\"],\n",
    "                             n_results=1)"
   ]
  },
  {
   "cell_type": "code",
   "execution_count": null,
   "id": "444a706e",
   "metadata": {},
   "outputs": [],
   "source": [
    "example_1"
   ]
  },
  {
   "cell_type": "code",
   "execution_count": null,
   "id": "e5dc5cde",
   "metadata": {},
   "outputs": [],
   "source": []
  },
  {
   "cell_type": "code",
   "execution_count": null,
   "id": "f070de0b",
   "metadata": {},
   "outputs": [],
   "source": []
  },
  {
   "cell_type": "markdown",
   "id": "b54a894a",
   "metadata": {},
   "source": [
    "## Now we have to give prompt to llm do not use any of your genral knowledge and make things up instead only use columns from the given table and from given database"
   ]
  },
  {
   "cell_type": "code",
   "execution_count": null,
   "id": "8a59832d",
   "metadata": {},
   "outputs": [],
   "source": [
    "from langchain.chains.sql_database.prompt import PROMPT_SUFFIX, _mysql_prompt"
   ]
  },
  {
   "cell_type": "code",
   "execution_count": null,
   "id": "9c21ecbe",
   "metadata": {},
   "outputs": [],
   "source": [
    "print(_mysql_prompt)"
   ]
  },
  {
   "cell_type": "code",
   "execution_count": null,
   "id": "6eeecae6",
   "metadata": {},
   "outputs": [],
   "source": [
    "print(PROMPT_SUFFIX)"
   ]
  },
  {
   "cell_type": "markdown",
   "id": "bbfec819",
   "metadata": {},
   "source": [
    "### so as you can see we langchain already provides sql prompt its really great"
   ]
  },
  {
   "cell_type": "code",
   "execution_count": null,
   "id": "081655c1",
   "metadata": {},
   "outputs": [],
   "source": [
    "from langchain.prompts import PromptTemplate"
   ]
  },
  {
   "cell_type": "code",
   "execution_count": null,
   "id": "b676c0ec",
   "metadata": {},
   "outputs": [],
   "source": [
    "from langchain.prompts.prompt import PromptTemplate\n",
    "\n",
    "example_prompt = PromptTemplate(\n",
    "    input_variables=[\"Question\", \"SQLQuery\", \"SQLResult\",\"Answer\",],\n",
    "    template=\"\\nQuestion: {Question}\\nSQLQuery: {SQLQuery}\\nSQLResult: {SQLResult}\\nAnswer: {Answer}\",\n",
    ")"
   ]
  },
  {
   "cell_type": "code",
   "execution_count": null,
   "id": "98e4399f",
   "metadata": {},
   "outputs": [],
   "source": [
    "from langchain.prompts import FewShotPromptTemplate"
   ]
  },
  {
   "cell_type": "code",
   "execution_count": null,
   "id": "e9b8be0b",
   "metadata": {},
   "outputs": [],
   "source": [
    "few = FewShotPromptTemplate(example_selector=example_1, \n",
    "                      example_prompt=example_prompt,\n",
    "                      suffix=PROMPT_SUFFIX, \n",
    "                      prefix=_mysql_prompt, input_variables=['input','table_info','top_k'] \n",
    "                     )"
   ]
  },
  {
   "cell_type": "code",
   "execution_count": null,
   "id": "d6d95e14",
   "metadata": {},
   "outputs": [],
   "source": []
  }
 ],
 "metadata": {
  "kernelspec": {
   "display_name": "sql_llm",
   "language": "python",
   "name": "sql_llm"
  },
  "language_info": {
   "codemirror_mode": {
    "name": "ipython",
    "version": 3
   },
   "file_extension": ".py",
   "mimetype": "text/x-python",
   "name": "python",
   "nbconvert_exporter": "python",
   "pygments_lexer": "ipython3",
   "version": "3.11.7"
  }
 },
 "nbformat": 4,
 "nbformat_minor": 5
}
