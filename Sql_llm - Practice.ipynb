{
 "cells": [
  {
   "cell_type": "code",
   "execution_count": 65,
   "id": "769af49a",
   "metadata": {},
   "outputs": [],
   "source": [
    "from langchain.llms import GooglePalm\n",
    "from dotenv import load_dotenv\n",
    "import os\n",
    "\n",
    "load_dotenv()\n",
    "api_key = os.getenv('GOOGLE_API_KEY')"
   ]
  },
  {
   "cell_type": "code",
   "execution_count": 66,
   "id": "143333c8",
   "metadata": {},
   "outputs": [],
   "source": [
    "llm = GooglePalm(google_api_key= api_key, temperature=0.7)"
   ]
  },
  {
   "cell_type": "code",
   "execution_count": 67,
   "id": "a0563802",
   "metadata": {},
   "outputs": [
    {
     "name": "stdout",
     "output_type": "stream",
     "text": [
      "**Ingredients**\n",
      "\n",
      "* 1 cup urad dal (black gram)\n",
      "* 1/2 cup rice\n",
      "* 1 green chili, chopped\n",
      "* 1/2 teaspoon ginger-garlic paste\n",
      "* 1/2 teaspoon cumin seeds\n",
      "* 1/4 teaspoon turmeric powder\n",
      "* 1/2 teaspoon red chili powder\n",
      "* 1/4 teaspoon garam masala powder\n",
      "* 1/2 teaspoon salt\n",
      "* Oil for deep frying\n",
      "* 4 bread buns, split\n",
      "* 1/2 cup green chutney\n",
      "* 1/2 cup tamarind chutney\n",
      "* 1/4 cup finely chopped onions\n",
      "* 1/4 cup finely chopped tomatoes\n",
      "* 1/4 cup cilantro leaves, for garnish\n",
      "\n",
      "**Instructions**\n",
      "\n",
      "1. Soak the urad dal and rice in water for 4-5 hours.\n",
      "2. Drain the water and grind the dal and rice together to a smooth paste. Add the green chili, ginger-garlic paste, cumin seeds, turmeric powder, red chili powder, garam masala powder, and salt. Mix well to combine.\n",
      "3. Heat oil in a deep frying pan. Drop spoonfuls of the batter into the hot oil and fry until golden brown. Drain on paper towels.\n",
      "4. To assemble the vada pav, split the buns in half. Spread some green chutney on the bottom half of each bun. Add a vada, then top with tamarind chutney, onions, tomatoes, and cilantro leaves. Serve immediately.\n",
      "\n",
      "**Total time:** 1 hour 30 minutes (includes soaking time)\n"
     ]
    }
   ],
   "source": [
    "print(llm('how to make vada paav with time calculation'))"
   ]
  },
  {
   "cell_type": "code",
   "execution_count": null,
   "id": "2302fbb4",
   "metadata": {},
   "outputs": [],
   "source": []
  },
  {
   "cell_type": "markdown",
   "id": "ad8ad0d4",
   "metadata": {},
   "source": [
    "## Now we are connecting with our database from MySQL"
   ]
  },
  {
   "cell_type": "code",
   "execution_count": 68,
   "id": "be9577fa",
   "metadata": {},
   "outputs": [],
   "source": [
    "from langchain.utilities import SQLDatabase"
   ]
  },
  {
   "cell_type": "code",
   "execution_count": 69,
   "id": "9a9f7e9d",
   "metadata": {},
   "outputs": [],
   "source": [
    "db_user ='root'\n",
    "db_password ='root'\n",
    "db_host ='localhost'\n",
    "db_name ='atliq_tshirts'"
   ]
  },
  {
   "cell_type": "code",
   "execution_count": 70,
   "id": "e531ade9",
   "metadata": {},
   "outputs": [],
   "source": [
    "db = SQLDatabase.from_uri(f\"mysql+pymysql://{db_user}:{db_password}@{db_host}/{db_name}\", sample_rows_in_table_info=3)"
   ]
  },
  {
   "cell_type": "code",
   "execution_count": 71,
   "id": "43ab056c",
   "metadata": {},
   "outputs": [
    {
     "name": "stdout",
     "output_type": "stream",
     "text": [
      "\n",
      "CREATE TABLE discounts (\n",
      "\tdiscount_id INTEGER NOT NULL AUTO_INCREMENT, \n",
      "\tt_shirt_id INTEGER NOT NULL, \n",
      "\tpct_discount DECIMAL(5, 2), \n",
      "\tPRIMARY KEY (discount_id), \n",
      "\tCONSTRAINT discounts_ibfk_1 FOREIGN KEY(t_shirt_id) REFERENCES t_shirts (t_shirt_id), \n",
      "\tCONSTRAINT discounts_chk_1 CHECK ((`pct_discount` between 0 and 100))\n",
      ")DEFAULT CHARSET=utf8mb4 ENGINE=InnoDB COLLATE utf8mb4_0900_ai_ci\n",
      "\n",
      "/*\n",
      "3 rows from discounts table:\n",
      "discount_id\tt_shirt_id\tpct_discount\n",
      "1\t1\t10.00\n",
      "2\t2\t15.00\n",
      "3\t3\t20.00\n",
      "*/\n",
      "\n",
      "\n",
      "CREATE TABLE t_shirts (\n",
      "\tt_shirt_id INTEGER NOT NULL AUTO_INCREMENT, \n",
      "\tbrand ENUM('Van Huesen','Levi','Nike','Adidas') NOT NULL, \n",
      "\tcolor ENUM('Red','Blue','Black','White') NOT NULL, \n",
      "\tsize ENUM('XS','S','M','L','XL') NOT NULL, \n",
      "\tprice INTEGER, \n",
      "\tstock_quantity INTEGER NOT NULL, \n",
      "\tPRIMARY KEY (t_shirt_id), \n",
      "\tCONSTRAINT t_shirts_chk_1 CHECK ((`price` between 10 and 50))\n",
      ")DEFAULT CHARSET=utf8mb4 ENGINE=InnoDB COLLATE utf8mb4_0900_ai_ci\n",
      "\n",
      "/*\n",
      "3 rows from t_shirts table:\n",
      "t_shirt_id\tbrand\tcolor\tsize\tprice\tstock_quantity\n",
      "1\tNike\tBlue\tM\t50\t33\n",
      "2\tLevi\tBlack\tL\t28\t16\n",
      "3\tVan Huesen\tWhite\tM\t47\t98\n",
      "*/\n"
     ]
    }
   ],
   "source": [
    "print(db.table_info)"
   ]
  },
  {
   "cell_type": "code",
   "execution_count": null,
   "id": "7dbb7a33",
   "metadata": {},
   "outputs": [],
   "source": []
  },
  {
   "cell_type": "code",
   "execution_count": 72,
   "id": "da1bd21c",
   "metadata": {},
   "outputs": [],
   "source": [
    "from langchain_experimental.sql import SQLDatabaseChain"
   ]
  },
  {
   "cell_type": "code",
   "execution_count": 73,
   "id": "4c38c0d5",
   "metadata": {},
   "outputs": [
    {
     "name": "stderr",
     "output_type": "stream",
     "text": [
      "C:\\ML Projects\\LLM - Projects\\SQL_LLM\\sql_llm\\Lib\\site-packages\\langchain_experimental\\sql\\base.py:75: UserWarning: Directly instantiating an SQLDatabaseChain with an llm is deprecated. Please instantiate with llm_chain argument or using the from_llm class method.\n",
      "  warnings.warn(\n"
     ]
    }
   ],
   "source": [
    "db_chain = SQLDatabaseChain(llm = llm, database = db, verbose = True)"
   ]
  },
  {
   "cell_type": "code",
   "execution_count": 74,
   "id": "87918df5",
   "metadata": {},
   "outputs": [
    {
     "name": "stdout",
     "output_type": "stream",
     "text": [
      "\n",
      "\n",
      "\u001b[1m> Entering new SQLDatabaseChain chain...\u001b[0m\n",
      "how many nike tshirts in small size\n",
      "SQLQuery:\u001b[32;1m\u001b[1;3mSELECT count(*) FROM t_shirts WHERE brand='Nike' AND size='S'\u001b[0m\n",
      "SQLResult: \u001b[33;1m\u001b[1;3m[(3,)]\u001b[0m\n",
      "Answer:\u001b[32;1m\u001b[1;3m3\u001b[0m\n",
      "\u001b[1m> Finished chain.\u001b[0m\n"
     ]
    }
   ],
   "source": [
    "q1 = db_chain.run('how many nike tshirts in small size')"
   ]
  },
  {
   "cell_type": "code",
   "execution_count": 75,
   "id": "d8599cf4",
   "metadata": {},
   "outputs": [
    {
     "data": {
      "text/plain": [
       "'3'"
      ]
     },
     "execution_count": 75,
     "metadata": {},
     "output_type": "execute_result"
    }
   ],
   "source": [
    "q1"
   ]
  },
  {
   "cell_type": "code",
   "execution_count": 76,
   "id": "6536dcd3",
   "metadata": {},
   "outputs": [
    {
     "name": "stdout",
     "output_type": "stream",
     "text": [
      "\n",
      "\n",
      "\u001b[1m> Entering new SQLDatabaseChain chain...\u001b[0m\n",
      "how much is the price of inventory for all small size tshirts?\n",
      "SQLQuery:\u001b[32;1m\u001b[1;3mSELECT SUM(price) FROM t_shirts WHERE size = 'S'\u001b[0m\n",
      "SQLResult: \u001b[33;1m\u001b[1;3m[(Decimal('311'),)]\u001b[0m\n",
      "Answer:\u001b[32;1m\u001b[1;3m311\u001b[0m\n",
      "\u001b[1m> Finished chain.\u001b[0m\n"
     ]
    }
   ],
   "source": [
    "q2 = db_chain.run('how much is the price of inventory for all small size tshirts?')"
   ]
  },
  {
   "cell_type": "markdown",
   "id": "af22b386",
   "metadata": {},
   "source": [
    "in the above example we could have like wrong answer i dont how did it manage to give correct answer bt we will giver it few more  defilcult so we will decide how we can improve it "
   ]
  },
  {
   "cell_type": "code",
   "execution_count": 77,
   "id": "7d6abe3d",
   "metadata": {},
   "outputs": [],
   "source": [
    "# q3 = db_chain.run('if we have to sell all the levis tshorts today with discount applied how much our store will genrate')"
   ]
  },
  {
   "cell_type": "markdown",
   "id": "3e3a8666",
   "metadata": {},
   "source": [
    "see in this question is dificult to address like its complex query and many it is using its own genrel knowledge like usually \n",
    "wehen get this question there should be coulumns like start date of discount and end date of discount we cant give discount all days so problem was that in our database we did not have any columns like startdate and enddate theen it uses oown knowledege without looking into database so we have to solve this problem suing concept of \"few shot learning\" lets see how we will use it"
   ]
  },
  {
   "cell_type": "code",
   "execution_count": 78,
   "id": "86014733",
   "metadata": {},
   "outputs": [
    {
     "name": "stdout",
     "output_type": "stream",
     "text": [
      "\n",
      "\n",
      "\u001b[1m> Entering new SQLDatabaseChain chain...\u001b[0m\n",
      "\n",
      "select sum(a.total_amount * ((100-COALESCE(discounts.pct_discount,0))/100)) as total_revenue from\n",
      "(select sum(price*stock_quantity) as total_amount, t_shirt_id from t_shirts where brand = 'Levi'\n",
      "group by t_shirt_id) a left join discounts on a.t_shirt_id = discounts.t_shirt_id\n",
      " \n",
      "SQLQuery:\u001b[32;1m\u001b[1;3mselect sum(a.total_amount * ((100-COALESCE(discounts.pct_discount,0))/100)) as total_revenue from\n",
      "(select sum(price*stock_quantity) as total_amount, t_shirt_id from t_shirts where brand = 'Levi'\n",
      "group by t_shirt_id) a left join discounts on a.t_shirt_id = discounts.t_shirt_id\u001b[0m\n",
      "SQLResult: \u001b[33;1m\u001b[1;3m[(Decimal('17178.550000'),)]\u001b[0m\n",
      "Answer:\u001b[32;1m\u001b[1;3m17178.55\u001b[0m\n",
      "\u001b[1m> Finished chain.\u001b[0m\n"
     ]
    }
   ],
   "source": [
    "sql_code = \"\"\"\n",
    "select sum(a.total_amount * ((100-COALESCE(discounts.pct_discount,0))/100)) as total_revenue from\n",
    "(select sum(price*stock_quantity) as total_amount, t_shirt_id from t_shirts where brand = 'Levi'\n",
    "group by t_shirt_id) a left join discounts on a.t_shirt_id = discounts.t_shirt_id\n",
    " \"\"\"\n",
    "\n",
    "q3 = db_chain.run(sql_code)"
   ]
  },
  {
   "cell_type": "code",
   "execution_count": 79,
   "id": "be3b2ec1",
   "metadata": {},
   "outputs": [
    {
     "name": "stdout",
     "output_type": "stream",
     "text": [
      "\n",
      "\n",
      "\u001b[1m> Entering new SQLDatabaseChain chain...\u001b[0m\n",
      "SELECT SUM(price * stock_quantity) FROM t_shirts WHERE brand = 'Levi'\n",
      "SQLQuery:\u001b[32;1m\u001b[1;3mSELECT SUM(price * stock_quantity) FROM t_shirts WHERE brand = 'Levi'\u001b[0m\n",
      "SQLResult: \u001b[33;1m\u001b[1;3m[(Decimal('17482'),)]\u001b[0m\n",
      "Answer:\u001b[32;1m\u001b[1;3m17482\u001b[0m\n",
      "\u001b[1m> Finished chain.\u001b[0m\n"
     ]
    }
   ],
   "source": [
    "q4 = db_chain.run(\"SELECT SUM(price * stock_quantity) FROM t_shirts WHERE brand = 'Levi'\")"
   ]
  },
  {
   "cell_type": "code",
   "execution_count": 80,
   "id": "256bd33d",
   "metadata": {},
   "outputs": [
    {
     "name": "stdout",
     "output_type": "stream",
     "text": [
      "\n",
      "\n",
      "\u001b[1m> Entering new SQLDatabaseChain chain...\u001b[0m\n",
      "How many white color Levi's t shirts we have available?\n",
      "SQLQuery:\u001b[32;1m\u001b[1;3mSELECT stock_quantity FROM t_shirts WHERE brand = 'Levi' AND color = 'White'\u001b[0m\n",
      "SQLResult: \u001b[33;1m\u001b[1;3m[(70,), (17,), (15,)]\u001b[0m\n",
      "Answer:\u001b[32;1m\u001b[1;3m70\u001b[0m\n",
      "\u001b[1m> Finished chain.\u001b[0m\n"
     ]
    }
   ],
   "source": [
    "q5 = db_chain.run(\"How many white color Levi's t shirts we have available?\")"
   ]
  },
  {
   "cell_type": "markdown",
   "id": "72989677",
   "metadata": {},
   "source": [
    "Once again above is the wrong answer. We need to use SUM(stock_quantity). Let's run the query explicitly. We will use the result of this query later on in the notebook"
   ]
  },
  {
   "cell_type": "code",
   "execution_count": 81,
   "id": "8afd6373",
   "metadata": {},
   "outputs": [
    {
     "name": "stdout",
     "output_type": "stream",
     "text": [
      "\n",
      "\n",
      "\u001b[1m> Entering new SQLDatabaseChain chain...\u001b[0m\n",
      "SELECT sum(stock_quantity) FROM t_shirts WHERE brand = 'Levi' AND color = 'White'\n",
      "SQLQuery:\u001b[32;1m\u001b[1;3mSELECT sum(stock_quantity) FROM t_shirts WHERE brand = 'Levi' AND color = 'White'\u001b[0m\n",
      "SQLResult: \u001b[33;1m\u001b[1;3m[(Decimal('102'),)]\u001b[0m\n",
      "Answer:\u001b[32;1m\u001b[1;3m102\u001b[0m\n",
      "\u001b[1m> Finished chain.\u001b[0m\n"
     ]
    }
   ],
   "source": [
    "qns5 = db_chain.run(\"SELECT sum(stock_quantity) FROM t_shirts WHERE brand = 'Levi' AND color = 'White'\")"
   ]
  },
  {
   "cell_type": "markdown",
   "id": "0b72740e",
   "metadata": {},
   "source": [
    "### Few shot learning\n",
    "\n",
    "We will use few shot learning to fix issues we have seen so far"
   ]
  },
  {
   "cell_type": "code",
   "execution_count": 82,
   "id": "f79f4e7b",
   "metadata": {},
   "outputs": [],
   "source": [
    "few_shots = [\n",
    "    {'Question': \"If we have to sell all the Levi’s T-shirts today with discounts applied. How much revenue  our store will generate (post discounts)?\" ,\n",
    "     'SQLQuery' : \"\"\"SELECT sum(a.total_amount * ((100-COALESCE(discounts.pct_discount,0))/100)) as total_revenue from\n",
    "(select sum(price*stock_quantity) as total_amount, t_shirt_id from t_shirts where brand = 'Levi'\n",
    "group by t_shirt_id) a left join discounts on a.t_shirt_id = discounts.t_shirt_id\n",
    " \"\"\",\n",
    "     'SQLResult': \"Result of the SQL query\",\n",
    "     'Answer': q3} ,\n",
    "    \n",
    "     {'Question' : \"If we have to sell all the Levi’s T-shirts today. How much revenue our store will generate without discount?\" ,\n",
    "      'SQLQuery': \"SELECT SUM(price * stock_quantity) FROM t_shirts WHERE brand = 'Levi'\",\n",
    "      'SQLResult': \"Result of the SQL query\",\n",
    "      'Answer' : q4},\n",
    "    \n",
    "    {'Question': \"How many white color Levi's shirt I have?\",\n",
    "     'SQLQuery' : \"SELECT sum(stock_quantity) FROM t_shirts WHERE brand = 'Levi' AND color = 'White'\",\n",
    "     'SQLResult': \"Result of the SQL query\",\n",
    "     'Answer' : q5\n",
    "     }\n",
    "]"
   ]
  },
  {
   "cell_type": "code",
   "execution_count": 83,
   "id": "c75ef9a5",
   "metadata": {},
   "outputs": [],
   "source": [
    "exmpl = {'Question': \"How many white color Levi's shirt I have?\",\n",
    "     'SQLQuery' : \"SELECT sum(stock_quantity) FROM t_shirts WHERE brand = 'Levi' AND color = 'White'\",\n",
    "     'SQLResult': \"Result of the SQL query\",\n",
    "     'Answer' : str(q5)\n",
    "     }"
   ]
  },
  {
   "cell_type": "markdown",
   "id": "846de8e2",
   "metadata": {},
   "source": [
    "# Embedding"
   ]
  },
  {
   "cell_type": "code",
   "execution_count": 84,
   "id": "fccc4801",
   "metadata": {},
   "outputs": [],
   "source": [
    "from langchain.embeddings import HuggingFaceBgeEmbeddings"
   ]
  },
  {
   "cell_type": "code",
   "execution_count": 85,
   "id": "d8215887",
   "metadata": {},
   "outputs": [],
   "source": [
    "embeddings = HuggingFaceBgeEmbeddings(model_name = 'sentence-transformers/all-MiniLM-L6-v2')"
   ]
  },
  {
   "cell_type": "code",
   "execution_count": 86,
   "id": "11f02fd0",
   "metadata": {},
   "outputs": [],
   "source": [
    "string = \"How many white color Levi's shirt I have? SELECT sum(stock_quantity) FROM t_shirts WHERE brand = 'Levi' AND color = 'White',Result of the SQL query,q5\""
   ]
  },
  {
   "cell_type": "code",
   "execution_count": 87,
   "id": "d990a75d",
   "metadata": {},
   "outputs": [],
   "source": [
    "emb = embeddings.embed_query(string)"
   ]
  },
  {
   "cell_type": "code",
   "execution_count": 88,
   "id": "a1c116a5",
   "metadata": {},
   "outputs": [
    {
     "data": {
      "text/plain": [
       "[0.0745023638010025,\n",
       " 0.09563492238521576,\n",
       " 0.043689947575330734,\n",
       " 0.0679817795753479,\n",
       " -0.06574059277772903,\n",
       " 0.09028568863868713,\n",
       " 0.11574981361627579,\n",
       " 0.028198814019560814,\n",
       " 0.009002607315778732,\n",
       " -0.03358960524201393,\n",
       " 0.03320828452706337,\n",
       " -0.05517894774675369,\n",
       " 0.07388364523649216,\n",
       " -0.055601902306079865,\n",
       " -0.0139928562566638,\n",
       " 0.08721467852592468,\n",
       " 0.06056702509522438,\n",
       " -0.00888493936508894,\n",
       " -0.05119819566607475,\n",
       " -0.11206994950771332,\n",
       " -0.017493221908807755,\n",
       " -0.094902403652668,\n",
       " 0.03700924292206764,\n",
       " 0.02817426808178425,\n",
       " -0.006441052071750164,\n",
       " -0.009022473357617855,\n",
       " -0.03166380897164345,\n",
       " 0.04303469881415367,\n",
       " 0.04767058044672012,\n",
       " -0.032439589500427246,\n",
       " -0.10947806388139725,\n",
       " 0.015154656022787094,\n",
       " 0.02915545180439949,\n",
       " 0.08769181370735168,\n",
       " -0.04680688679218292,\n",
       " -0.09288018941879272,\n",
       " -0.0011354589369148016,\n",
       " -0.05449717864394188,\n",
       " 0.004341609310358763,\n",
       " -0.011137791909277439,\n",
       " 0.0033972705714404583,\n",
       " -0.061633795499801636,\n",
       " -0.01183480117470026,\n",
       " 0.04359811171889305,\n",
       " 0.06796283274888992,\n",
       " 0.01449108961969614,\n",
       " -0.04151901230216026,\n",
       " 0.10752183198928833,\n",
       " 0.06333552300930023,\n",
       " -0.04424184188246727,\n",
       " -0.07695047557353973,\n",
       " 0.025897538289427757,\n",
       " -0.0189074520021677,\n",
       " 0.00521807698532939,\n",
       " 0.029074301943182945,\n",
       " -6.294214108493179e-05,\n",
       " -0.03940318524837494,\n",
       " 0.018561948090791702,\n",
       " -0.04997005686163902,\n",
       " -0.007737557403743267,\n",
       " -0.05320262536406517,\n",
       " -0.035625409334897995,\n",
       " -0.016441915184259415,\n",
       " 0.041044291108846664,\n",
       " 0.06602095812559128,\n",
       " -0.008870106190443039,\n",
       " -0.022188741713762283,\n",
       " 0.02586776576936245,\n",
       " 0.00525665795430541,\n",
       " -0.03942384198307991,\n",
       " 0.034783389419317245,\n",
       " 0.004056646954268217,\n",
       " 0.012036680243909359,\n",
       " 0.08595583587884903,\n",
       " -0.07454626262187958,\n",
       " 0.07072163373231888,\n",
       " 0.06374213844537735,\n",
       " 0.01819661632180214,\n",
       " -0.024428721517324448,\n",
       " 0.00932507123798132,\n",
       " -0.05276448279619217,\n",
       " -0.003770449198782444,\n",
       " -0.08929166942834854,\n",
       " 0.04586609825491905,\n",
       " 0.06162688136100769,\n",
       " 0.010964181274175644,\n",
       " 0.0273271556943655,\n",
       " 0.007698088884353638,\n",
       " 0.009636856615543365,\n",
       " -0.03618261218070984,\n",
       " -0.022817537188529968,\n",
       " 0.016379863023757935,\n",
       " -0.015530817210674286,\n",
       " -0.06187305971980095,\n",
       " 0.04368077963590622,\n",
       " 0.012117556296288967,\n",
       " -0.01123872585594654,\n",
       " -0.03958282247185707,\n",
       " 0.09580866247415543,\n",
       " -0.020886097103357315,\n",
       " 0.06663480401039124,\n",
       " 0.017009159550070763,\n",
       " 0.01763262040913105,\n",
       " -0.05827948823571205,\n",
       " -0.18427774310112,\n",
       " -0.005410289857536554,\n",
       " 0.07802073657512665,\n",
       " 0.11314579844474792,\n",
       " 0.022695794701576233,\n",
       " -0.07281183451414108,\n",
       " -0.04089133068919182,\n",
       " -0.036556825041770935,\n",
       " 0.02793572098016739,\n",
       " -0.04666968062520027,\n",
       " -0.028389373794198036,\n",
       " 0.0090414984151721,\n",
       " 0.06509682536125183,\n",
       " 0.06946362555027008,\n",
       " 0.02974628657102585,\n",
       " -0.0656249076128006,\n",
       " 0.07133305072784424,\n",
       " 0.0631902813911438,\n",
       " 0.0038137577939778566,\n",
       " -0.02348221465945244,\n",
       " -0.09731405973434448,\n",
       " -0.04571074992418289,\n",
       " -0.026555247604846954,\n",
       " -2.0363116189943334e-33,\n",
       " -0.013055757619440556,\n",
       " -0.054726310074329376,\n",
       " 0.010071981698274612,\n",
       " 0.013585616834461689,\n",
       " 0.03431069105863571,\n",
       " 9.857519034994766e-05,\n",
       " 0.037555497139692307,\n",
       " 0.04894130676984787,\n",
       " -0.02366458810865879,\n",
       " 0.0374005027115345,\n",
       " 0.03716948255896568,\n",
       " 0.0011103147407993674,\n",
       " -0.06666719168424606,\n",
       " 0.04395228251814842,\n",
       " 0.03265354782342911,\n",
       " 0.02342974953353405,\n",
       " 0.007603316102176905,\n",
       " -0.05477766692638397,\n",
       " -0.04969833418726921,\n",
       " 0.0008970180642791092,\n",
       " 0.007865622639656067,\n",
       " -0.022625766694545746,\n",
       " 0.029250051826238632,\n",
       " 0.07165494561195374,\n",
       " 0.03642406687140465,\n",
       " 0.002094204304739833,\n",
       " 0.0019712999928742647,\n",
       " 0.03618498519062996,\n",
       " -0.004361097235232592,\n",
       " -0.011162788607180119,\n",
       " 0.03682488948106766,\n",
       " -0.010283328592777252,\n",
       " -0.06521672010421753,\n",
       " -0.10843006521463394,\n",
       " -0.0009294797200709581,\n",
       " 0.05956782028079033,\n",
       " -0.03510928899049759,\n",
       " 0.02492937445640564,\n",
       " 0.08033198863267899,\n",
       " 0.0898798331618309,\n",
       " -0.0016879524337127805,\n",
       " 0.002103951992467046,\n",
       " 0.04214894026517868,\n",
       " 0.009168438613414764,\n",
       " 0.012926560826599598,\n",
       " 0.045020606368780136,\n",
       " -0.021416714414954185,\n",
       " -0.09909966588020325,\n",
       " -0.0426868200302124,\n",
       " 0.016114989295601845,\n",
       " -0.0048559242859482765,\n",
       " -0.0760006308555603,\n",
       " -0.010196343995630741,\n",
       " 0.02089463360607624,\n",
       " 0.08126308768987656,\n",
       " -0.025999924167990685,\n",
       " -0.007377401925623417,\n",
       " -0.018145792186260223,\n",
       " -0.024022316560149193,\n",
       " 0.03324897959828377,\n",
       " -0.0602600984275341,\n",
       " 0.019562195986509323,\n",
       " 0.06750842183828354,\n",
       " -0.009825287386775017,\n",
       " -0.01791522651910782,\n",
       " 0.08354809135198593,\n",
       " 0.004538585431873798,\n",
       " 0.014771593734622002,\n",
       " -0.016938887536525726,\n",
       " 0.06188367307186127,\n",
       " 0.0028457012958824635,\n",
       " 0.052950914949178696,\n",
       " 0.013628178276121616,\n",
       " 0.0006276321946643293,\n",
       " -0.0018135933205485344,\n",
       " -0.025163516402244568,\n",
       " 0.039373066276311874,\n",
       " 0.005018576048314571,\n",
       " -0.008813869208097458,\n",
       " 0.007556434255093336,\n",
       " -0.03407316654920578,\n",
       " -0.03982839733362198,\n",
       " -0.013604630716145039,\n",
       " 0.10495036840438843,\n",
       " -0.03686830773949623,\n",
       " 0.030186275020241737,\n",
       " 0.04609789699316025,\n",
       " -0.017577316612005234,\n",
       " 0.04354673624038696,\n",
       " -0.0554896742105484,\n",
       " -0.02470635622739792,\n",
       " 0.009287426248192787,\n",
       " -0.02601449191570282,\n",
       " -0.0009416732937097549,\n",
       " -0.048004068434238434,\n",
       " -9.002365528719097e-34,\n",
       " -0.076710544526577,\n",
       " 0.022557100281119347,\n",
       " -0.00013953518646303564,\n",
       " -0.03531459718942642,\n",
       " -0.0521252378821373,\n",
       " -0.001237116171978414,\n",
       " 0.049177803099155426,\n",
       " -0.03632610663771629,\n",
       " -0.031730569899082184,\n",
       " 0.049279309809207916,\n",
       " 0.046004798263311386,\n",
       " 0.002085805404931307,\n",
       " -0.043719299137592316,\n",
       " 0.01261951308697462,\n",
       " -0.08310701698064804,\n",
       " 0.11089345812797546,\n",
       " -0.03202681243419647,\n",
       " 0.1005420908331871,\n",
       " -0.0005874505150131881,\n",
       " 0.06387314200401306,\n",
       " -0.1350967288017273,\n",
       " 0.08483777940273285,\n",
       " 0.046385571360588074,\n",
       " 0.02040347456932068,\n",
       " 0.005104868207126856,\n",
       " 0.07406757026910782,\n",
       " 0.06429789960384369,\n",
       " -0.03377581760287285,\n",
       " -0.07461236417293549,\n",
       " 0.013349856249988079,\n",
       " 0.04881471022963524,\n",
       " -0.15500269830226898,\n",
       " 0.04826616495847702,\n",
       " 0.008762671612203121,\n",
       " 0.018750611692667007,\n",
       " -0.04483291506767273,\n",
       " 0.03887811675667763,\n",
       " -0.04221411794424057,\n",
       " 0.0030914926901459694,\n",
       " -0.04892539978027344,\n",
       " 0.01191263273358345,\n",
       " -0.03829001635313034,\n",
       " 0.12585413455963135,\n",
       " 0.0414808914065361,\n",
       " -0.058315373957157135,\n",
       " -0.0898231789469719,\n",
       " -0.01863623410463333,\n",
       " -0.10564642399549484,\n",
       " -0.01353735476732254,\n",
       " 0.045419931411743164,\n",
       " 0.05439332127571106,\n",
       " -0.01105837244540453,\n",
       " -0.03283223137259483,\n",
       " -0.000229778845096007,\n",
       " -0.014960244297981262,\n",
       " 0.03705541417002678,\n",
       " 0.007638067007064819,\n",
       " 0.11597538739442825,\n",
       " -0.024414464831352234,\n",
       " -0.001139142201282084,\n",
       " -0.059219229966402054,\n",
       " 0.12319234013557434,\n",
       " -0.1031249538064003,\n",
       " 0.016319353133440018,\n",
       " 0.0634872317314148,\n",
       " -0.018341071903705597,\n",
       " -0.05372779443860054,\n",
       " -0.029790466651320457,\n",
       " -0.06753300130367279,\n",
       " -0.010777197778224945,\n",
       " -0.0714452788233757,\n",
       " -0.02913237176835537,\n",
       " 0.0908370390534401,\n",
       " 0.02456536516547203,\n",
       " -0.028925616294145584,\n",
       " 0.058437611907720566,\n",
       " -0.06021253392100334,\n",
       " 0.05939442664384842,\n",
       " -0.06378576904535294,\n",
       " 0.08175517618656158,\n",
       " 0.011515066958963871,\n",
       " -0.07455389946699142,\n",
       " 0.057713404297828674,\n",
       " -0.005224641412496567,\n",
       " -0.0783759132027626,\n",
       " 0.0461193211376667,\n",
       " -0.020882105454802513,\n",
       " 0.025631798431277275,\n",
       " 0.03044254519045353,\n",
       " 0.03118773177266121,\n",
       " 0.013066202402114868,\n",
       " 0.01637793704867363,\n",
       " 0.005854688119143248,\n",
       " -0.0779382735490799,\n",
       " 0.02880355529487133,\n",
       " -2.697378143068363e-08,\n",
       " 0.008841041475534439,\n",
       " -0.04295670613646507,\n",
       " 0.043563857674598694,\n",
       " 0.01300993375480175,\n",
       " 0.09324051439762115,\n",
       " -0.01093656662851572,\n",
       " -0.023804791271686554,\n",
       " -0.03987007215619087,\n",
       " -0.07184632122516632,\n",
       " 0.07674788683652878,\n",
       " -0.09148120135068893,\n",
       " -0.028764203190803528,\n",
       " -0.04665566608309746,\n",
       " -0.0028666292782872915,\n",
       " -0.09934640675783157,\n",
       " -0.02085595577955246,\n",
       " -0.06793022155761719,\n",
       " -0.014551016502082348,\n",
       " 0.013638769276440144,\n",
       " -0.09069515764713287,\n",
       " -0.052995484322309494,\n",
       " 0.035697951912879944,\n",
       " -0.004226238466799259,\n",
       " 0.03482244908809662,\n",
       " -0.0645362064242363,\n",
       " 0.015852507203817368,\n",
       " -0.05145956948399544,\n",
       " 0.053943440318107605,\n",
       " 0.02402244135737419,\n",
       " 0.018796073272824287,\n",
       " 0.06318100541830063,\n",
       " 0.006871256977319717,\n",
       " -0.02684723772108555,\n",
       " 0.026036592200398445,\n",
       " 0.0011529658222571015,\n",
       " -0.05618875473737717,\n",
       " -0.06326394528150558,\n",
       " -0.03515973687171936,\n",
       " -0.03886216878890991,\n",
       " 0.011444701813161373,\n",
       " -0.08326046168804169,\n",
       " -0.02838859148323536,\n",
       " 0.03362739831209183,\n",
       " 0.021679198369383812,\n",
       " 0.05845721438527107,\n",
       " -0.09486673027276993,\n",
       " -0.06185506656765938,\n",
       " 0.034267473965883255,\n",
       " -0.04583581164479256,\n",
       " 0.0077645061537623405,\n",
       " 0.043329186737537384,\n",
       " -0.09608400613069534,\n",
       " 0.00232398952357471,\n",
       " 0.009674393571913242,\n",
       " -0.09612333029508591,\n",
       " -0.018114738166332245,\n",
       " 0.02114146202802658,\n",
       " 0.06129707396030426,\n",
       " 0.024563251063227654,\n",
       " -0.04246014729142189,\n",
       " 0.04172047972679138,\n",
       " -0.11434605717658997,\n",
       " -0.0318482480943203,\n",
       " -0.03177952766418457]"
      ]
     },
     "execution_count": 88,
     "metadata": {},
     "output_type": "execute_result"
    }
   ],
   "source": [
    "emb"
   ]
  },
  {
   "cell_type": "code",
   "execution_count": 89,
   "id": "e881bed1",
   "metadata": {},
   "outputs": [
    {
     "data": {
      "text/plain": [
       "(384,\n",
       " [0.0745023638010025,\n",
       "  0.09563492238521576,\n",
       "  0.043689947575330734,\n",
       "  0.0679817795753479,\n",
       "  -0.06574059277772903])"
      ]
     },
     "execution_count": 89,
     "metadata": {},
     "output_type": "execute_result"
    }
   ],
   "source": [
    "len(emb),emb[:5]"
   ]
  },
  {
   "cell_type": "code",
   "execution_count": 90,
   "id": "2066e6d6",
   "metadata": {},
   "outputs": [],
   "source": [
    "to_vectorize = [''.join(i.values()) for i in few_shots]"
   ]
  },
  {
   "cell_type": "code",
   "execution_count": 91,
   "id": "1f84828d",
   "metadata": {},
   "outputs": [
    {
     "data": {
      "text/plain": [
       "\"How many white color Levi's shirt I have?SELECT sum(stock_quantity) FROM t_shirts WHERE brand = 'Levi' AND color = 'White'Result of the SQL query70\""
      ]
     },
     "execution_count": 91,
     "metadata": {},
     "output_type": "execute_result"
    }
   ],
   "source": [
    "to_vectorize[2]"
   ]
  },
  {
   "cell_type": "markdown",
   "id": "a1d243f1",
   "metadata": {},
   "source": [
    "# VectorStore"
   ]
  },
  {
   "cell_type": "markdown",
   "id": "bcf29954",
   "metadata": {},
   "source": [
    "we have to store this embeding somewhere so to store this embding we have vectorStore so we can store aur embeding into this"
   ]
  },
  {
   "cell_type": "markdown",
   "id": "82b0f8b8",
   "metadata": {},
   "source": [
    "the job of VectorStore is to take input questions convert into embedings and find the similar looking few shots examples"
   ]
  },
  {
   "cell_type": "code",
   "execution_count": 92,
   "id": "64b0cd16",
   "metadata": {},
   "outputs": [],
   "source": [
    "from langchain.vectorstores import Chroma"
   ]
  },
  {
   "cell_type": "code",
   "execution_count": 93,
   "id": "2986f0c0",
   "metadata": {},
   "outputs": [],
   "source": [
    "# !pip install chromadb==0.4.15"
   ]
  },
  {
   "cell_type": "code",
   "execution_count": 94,
   "id": "f72114bb",
   "metadata": {},
   "outputs": [
    {
     "data": {
      "text/plain": [
       "[\"If we have to sell all the Levi’s T-shirts today with discounts applied. How much revenue  our store will generate (post discounts)?SELECT sum(a.total_amount * ((100-COALESCE(discounts.pct_discount,0))/100)) as total_revenue from\\n(select sum(price*stock_quantity) as total_amount, t_shirt_id from t_shirts where brand = 'Levi'\\ngroup by t_shirt_id) a left join discounts on a.t_shirt_id = discounts.t_shirt_id\\n Result of the SQL query17178.55\",\n",
       " \"If we have to sell all the Levi’s T-shirts today. How much revenue our store will generate without discount?SELECT SUM(price * stock_quantity) FROM t_shirts WHERE brand = 'Levi'Result of the SQL query17482\",\n",
       " \"How many white color Levi's shirt I have?SELECT sum(stock_quantity) FROM t_shirts WHERE brand = 'Levi' AND color = 'White'Result of the SQL query70\"]"
      ]
     },
     "execution_count": 94,
     "metadata": {},
     "output_type": "execute_result"
    }
   ],
   "source": [
    "to_vectorize"
   ]
  },
  {
   "cell_type": "code",
   "execution_count": 95,
   "id": "c4848cd1",
   "metadata": {},
   "outputs": [],
   "source": [
    "vectorstore = Chroma.from_texts(to_vectorize, \n",
    "                                embedding= embeddings, \n",
    "                                metadatas= few_shots)"
   ]
  },
  {
   "cell_type": "code",
   "execution_count": 96,
   "id": "b41bb12a",
   "metadata": {},
   "outputs": [],
   "source": [
    "texts = [\"Sample text 1\", \"Sample text 2\", \"Sample text 3\"]\n",
    "metadatas = [{\"metadata_key\": \"metadata_value\"} for _ in range(len(texts))]\n",
    "ids = ['id1', 'id2', 'id3']\n",
    "\n",
    "# Attempt to create the VectorStore using the simplified data\n",
    "# vectorstore = Chroma.from_texts(texts=texts, metadatas=metadatas, ids=ids)\n"
   ]
  },
  {
   "cell_type": "markdown",
   "id": "5def4a92",
   "metadata": {},
   "source": [
    "becouse of some issue i am not able to use perform this code so i check there documentation and get to know that they have made some changes "
   ]
  },
  {
   "cell_type": "markdown",
   "id": "69219fe9",
   "metadata": {},
   "source": [
    "## Tryning FAISS for VectorStore"
   ]
  },
  {
   "cell_type": "code",
   "execution_count": 97,
   "id": "3ff045ba",
   "metadata": {},
   "outputs": [],
   "source": [
    "from langchain.vectorstores import FAISS"
   ]
  },
  {
   "cell_type": "code",
   "execution_count": 98,
   "id": "3e5cc18c",
   "metadata": {},
   "outputs": [],
   "source": [
    "vectorestore = FAISS.from_texts(to_vectorize, embeddings, few_shots, ids)"
   ]
  },
  {
   "cell_type": "code",
   "execution_count": 99,
   "id": "2a3f90a7",
   "metadata": {},
   "outputs": [
    {
     "data": {
      "text/plain": [
       "<langchain.vectorstores.faiss.FAISS at 0x2a710317950>"
      ]
     },
     "execution_count": 99,
     "metadata": {},
     "output_type": "execute_result"
    }
   ],
   "source": [
    "vectorestore"
   ]
  },
  {
   "cell_type": "code",
   "execution_count": 100,
   "id": "b265b011",
   "metadata": {},
   "outputs": [],
   "source": [
    "from langchain.prompts import SemanticSimilarityExampleSelector"
   ]
  },
  {
   "cell_type": "code",
   "execution_count": 101,
   "id": "04ddd9c3",
   "metadata": {},
   "outputs": [],
   "source": [
    "example_selector = SemanticSimilarityExampleSelector(vectorstore= vectorestore, k=2)"
   ]
  },
  {
   "cell_type": "markdown",
   "id": "1d7f139a",
   "metadata": {},
   "source": [
    "this wont work for use coz we have used diffrent approch "
   ]
  },
  {
   "cell_type": "code",
   "execution_count": 102,
   "id": "a9e99ca0",
   "metadata": {},
   "outputs": [
    {
     "data": {
      "text/plain": [
       "{'Question': 'If we have to sell all the Levi’s T-shirts today. How much revenue our store will generate without discount?',\n",
       " 'SQLQuery': \"SELECT SUM(price * stock_quantity) FROM t_shirts WHERE brand = 'Levi'\",\n",
       " 'SQLResult': 'Result of the SQL query',\n",
       " 'Answer': '17482'}"
      ]
     },
     "execution_count": 102,
     "metadata": {},
     "output_type": "execute_result"
    }
   ],
   "source": [
    "few_shots[1]"
   ]
  },
  {
   "cell_type": "code",
   "execution_count": 103,
   "id": "444a706e",
   "metadata": {},
   "outputs": [
    {
     "data": {
      "text/plain": [
       "SemanticSimilarityExampleSelector(vectorstore=<langchain.vectorstores.faiss.FAISS object at 0x000002A710317950>, k=2, example_keys=None, input_keys=None)"
      ]
     },
     "execution_count": 103,
     "metadata": {},
     "output_type": "execute_result"
    }
   ],
   "source": [
    "example_selector"
   ]
  },
  {
   "cell_type": "code",
   "execution_count": 104,
   "id": "e5dc5cde",
   "metadata": {},
   "outputs": [
    {
     "data": {
      "text/plain": [
       "[{'Question': 'If we have to sell all the Levi’s T-shirts today. How much revenue our store will generate without discount?',\n",
       "  'SQLQuery': \"SELECT SUM(price * stock_quantity) FROM t_shirts WHERE brand = 'Levi'\",\n",
       "  'SQLResult': 'Result of the SQL query',\n",
       "  'Answer': '17482'},\n",
       " {'Question': \"How many white color Levi's shirt I have?\",\n",
       "  'SQLQuery': \"SELECT sum(stock_quantity) FROM t_shirts WHERE brand = 'Levi' AND color = 'White'\",\n",
       "  'SQLResult': 'Result of the SQL query',\n",
       "  'Answer': '70'}]"
      ]
     },
     "execution_count": 104,
     "metadata": {},
     "output_type": "execute_result"
    }
   ],
   "source": [
    "example_selector.select_examples({\"Question\": \"How many Adidas T shirts I have left in my store?\"})"
   ]
  },
  {
   "cell_type": "code",
   "execution_count": null,
   "id": "f070de0b",
   "metadata": {},
   "outputs": [],
   "source": []
  },
  {
   "cell_type": "markdown",
   "id": "b54a894a",
   "metadata": {},
   "source": [
    "## Now we have to give prompt to llm do not use any of your genral knowledge and make things up instead only use columns from the given table and from given database"
   ]
  },
  {
   "cell_type": "code",
   "execution_count": 105,
   "id": "8a59832d",
   "metadata": {},
   "outputs": [],
   "source": [
    "from langchain.chains.sql_database.prompt import PROMPT_SUFFIX, _mysql_prompt"
   ]
  },
  {
   "cell_type": "code",
   "execution_count": 106,
   "id": "9c21ecbe",
   "metadata": {},
   "outputs": [
    {
     "name": "stdout",
     "output_type": "stream",
     "text": [
      "You are a MySQL expert. Given an input question, first create a syntactically correct MySQL query to run, then look at the results of the query and return the answer to the input question.\n",
      "Unless the user specifies in the question a specific number of examples to obtain, query for at most {top_k} results using the LIMIT clause as per MySQL. You can order the results to return the most informative data in the database.\n",
      "Never query for all columns from a table. You must query only the columns that are needed to answer the question. Wrap each column name in backticks (`) to denote them as delimited identifiers.\n",
      "Pay attention to use only the column names you can see in the tables below. Be careful to not query for columns that do not exist. Also, pay attention to which column is in which table.\n",
      "Pay attention to use CURDATE() function to get the current date, if the question involves \"today\".\n",
      "\n",
      "Use the following format:\n",
      "\n",
      "Question: Question here\n",
      "SQLQuery: SQL Query to run\n",
      "SQLResult: Result of the SQLQuery\n",
      "Answer: Final answer here\n",
      "\n",
      "\n"
     ]
    }
   ],
   "source": [
    "print(_mysql_prompt)"
   ]
  },
  {
   "cell_type": "code",
   "execution_count": 107,
   "id": "6eeecae6",
   "metadata": {},
   "outputs": [
    {
     "name": "stdout",
     "output_type": "stream",
     "text": [
      "Only use the following tables:\n",
      "{table_info}\n",
      "\n",
      "Question: {input}\n"
     ]
    }
   ],
   "source": [
    "print(PROMPT_SUFFIX)"
   ]
  },
  {
   "cell_type": "markdown",
   "id": "bbfec819",
   "metadata": {},
   "source": [
    "### so as you can see we langchain already provides sql prompt its really great"
   ]
  },
  {
   "cell_type": "code",
   "execution_count": 108,
   "id": "081655c1",
   "metadata": {},
   "outputs": [],
   "source": [
    "from langchain.prompts import PromptTemplate"
   ]
  },
  {
   "cell_type": "code",
   "execution_count": 109,
   "id": "b676c0ec",
   "metadata": {},
   "outputs": [],
   "source": [
    "from langchain.prompts.prompt import PromptTemplate\n",
    "\n",
    "example_prompt = PromptTemplate(\n",
    "    input_variables=[\"Question\", \"SQLQuery\", \"SQLResult\",\"Answer\",],\n",
    "    template=\"\\nQuestion: {Question}\\nSQLQuery: {SQLQuery}\\nSQLResult: {SQLResult}\\nAnswer: {Answer}\",\n",
    ")"
   ]
  },
  {
   "cell_type": "code",
   "execution_count": 110,
   "id": "98e4399f",
   "metadata": {},
   "outputs": [],
   "source": [
    "from langchain.prompts import FewShotPromptTemplate"
   ]
  },
  {
   "cell_type": "code",
   "execution_count": 111,
   "id": "e9b8be0b",
   "metadata": {},
   "outputs": [],
   "source": [
    "few = FewShotPromptTemplate(example_selector=example_selector, \n",
    "                      example_prompt=example_prompt,\n",
    "                      suffix=PROMPT_SUFFIX, \n",
    "                      prefix=_mysql_prompt, input_variables=['input','table_info','top_k'] \n",
    "                     )"
   ]
  },
  {
   "cell_type": "code",
   "execution_count": null,
   "id": "d6d95e14",
   "metadata": {},
   "outputs": [],
   "source": []
  },
  {
   "cell_type": "code",
   "execution_count": 119,
   "id": "55132044",
   "metadata": {},
   "outputs": [],
   "source": [
    "sql_db = SQLDatabaseChain.from_llm(llm, db, few)"
   ]
  },
  {
   "cell_type": "code",
   "execution_count": 124,
   "id": "f59ae06f",
   "metadata": {},
   "outputs": [
    {
     "data": {
      "text/plain": [
       "('102',\n",
       " {'query': \"How many white color Levi's shirt I have?\", 'result': '102'})"
      ]
     },
     "execution_count": 124,
     "metadata": {},
     "output_type": "execute_result"
    }
   ],
   "source": [
    "sql_db(\"How many white color Levi's shirt I have?\").get('result'),sql_db(\"How many white color Levi's shirt I have?\")"
   ]
  },
  {
   "cell_type": "code",
   "execution_count": null,
   "id": "7325284c",
   "metadata": {},
   "outputs": [],
   "source": []
  }
 ],
 "metadata": {
  "kernelspec": {
   "display_name": "sql_llm",
   "language": "python",
   "name": "sql_llm"
  },
  "language_info": {
   "codemirror_mode": {
    "name": "ipython",
    "version": 3
   },
   "file_extension": ".py",
   "mimetype": "text/x-python",
   "name": "python",
   "nbconvert_exporter": "python",
   "pygments_lexer": "ipython3",
   "version": "3.11.7"
  }
 },
 "nbformat": 4,
 "nbformat_minor": 5
}
